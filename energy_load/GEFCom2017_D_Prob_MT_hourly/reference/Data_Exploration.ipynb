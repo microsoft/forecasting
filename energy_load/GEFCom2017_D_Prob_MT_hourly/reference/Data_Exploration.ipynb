{
 "cells": [
  {
   "cell_type": "markdown",
   "metadata": {
    "collapsed": true
   },
   "source": [
    "# GEFCOM2017 Data Exploration Notebook"
   ]
  },
  {
   "cell_type": "markdown",
   "metadata": {},
   "source": [
    "To run this notebook, please download GEFCom 2017 dataset by executing these commands from the root folder of TSPerf:\n",
    "    \n",
    "    conda env create --file ./common/conda_dependencies.yml\n",
    "    source activate tsperf\n",
    "    python energy_load/GEFCom2017_D_Prob_MT_hourly/common/download_data.py\n",
    "    python energy_load/GEFCom2017_D_Prob_MT_hourly/common/extract_data.py"
   ]
  },
  {
   "cell_type": "markdown",
   "metadata": {},
   "source": [
    "Install dependencies"
   ]
  },
  {
   "cell_type": "code",
   "execution_count": 89,
   "metadata": {},
   "outputs": [
    {
     "name": "stdout",
     "output_type": "stream",
     "text": [
      "Requirement already satisfied: patsy in c:\\miniconda3\\envs\\myenv\\lib\\site-packages (0.5.1)\n",
      "Requirement already satisfied: numpy>=1.4 in c:\\miniconda3\\envs\\myenv\\lib\\site-packages (from patsy) (1.15.4)\n",
      "Requirement already satisfied: six in c:\\miniconda3\\envs\\myenv\\lib\\site-packages (from patsy) (1.11.0)\n",
      "Requirement already satisfied: statsmodels in c:\\miniconda3\\envs\\myenv\\lib\\site-packages (0.9.0)\n"
     ]
    }
   ],
   "source": [
    "!pip install patsy\n",
    "!pip install statsmodels"
   ]
  },
  {
   "cell_type": "code",
   "execution_count": 46,
   "metadata": {},
   "outputs": [],
   "source": [
    "import os\n",
    "import warnings\n",
    "warnings.simplefilter(\"ignore\")\n",
    "import numpy as np\n",
    "import pandas as pd\n",
    "import matplotlib.pyplot as plt\n",
    "from statsmodels.graphics.tsaplots import plot_acf, plot_pacf\n",
    "from statsmodels.tsa.stattools import pacf\n",
    "%matplotlib inline\n",
    "plt.rcParams['figure.figsize'] = [15, 5]\n",
    "\n",
    "train_data_dir = '../data/train'\n",
    "test_data_dir = '../data/test'"
   ]
  },
  {
   "cell_type": "markdown",
   "metadata": {},
   "source": [
    "Combine train_base.csv and train_round_6.csv to get the entire training dataset. "
   ]
  },
  {
   "cell_type": "code",
   "execution_count": 3,
   "metadata": {},
   "outputs": [
    {
     "data": {
      "text/html": [
       "<div>\n",
       "<style scoped>\n",
       "    .dataframe tbody tr th:only-of-type {\n",
       "        vertical-align: middle;\n",
       "    }\n",
       "\n",
       "    .dataframe tbody tr th {\n",
       "        vertical-align: top;\n",
       "    }\n",
       "\n",
       "    .dataframe thead th {\n",
       "        text-align: right;\n",
       "    }\n",
       "</style>\n",
       "<table border=\"1\" class=\"dataframe\">\n",
       "  <thead>\n",
       "    <tr style=\"text-align: right;\">\n",
       "      <th></th>\n",
       "      <th>Datetime</th>\n",
       "      <th>DEMAND</th>\n",
       "      <th>DewPnt</th>\n",
       "      <th>DryBulb</th>\n",
       "      <th>Zone</th>\n",
       "      <th>Holiday</th>\n",
       "    </tr>\n",
       "  </thead>\n",
       "  <tbody>\n",
       "    <tr>\n",
       "      <th>0</th>\n",
       "      <td>2011-01-01 00:00:00</td>\n",
       "      <td>1048.000</td>\n",
       "      <td>28</td>\n",
       "      <td>31</td>\n",
       "      <td>ME</td>\n",
       "      <td>0</td>\n",
       "    </tr>\n",
       "    <tr>\n",
       "      <th>1</th>\n",
       "      <td>2011-01-01 00:00:00</td>\n",
       "      <td>1044.000</td>\n",
       "      <td>26</td>\n",
       "      <td>28</td>\n",
       "      <td>NH</td>\n",
       "      <td>0</td>\n",
       "    </tr>\n",
       "    <tr>\n",
       "      <th>2</th>\n",
       "      <td>2011-01-01 00:00:00</td>\n",
       "      <td>575.000</td>\n",
       "      <td>35</td>\n",
       "      <td>43</td>\n",
       "      <td>VT</td>\n",
       "      <td>0</td>\n",
       "    </tr>\n",
       "    <tr>\n",
       "      <th>3</th>\n",
       "      <td>2011-01-01 00:00:00</td>\n",
       "      <td>3053.000</td>\n",
       "      <td>27</td>\n",
       "      <td>33</td>\n",
       "      <td>CT</td>\n",
       "      <td>0</td>\n",
       "    </tr>\n",
       "    <tr>\n",
       "      <th>4</th>\n",
       "      <td>2011-01-01 00:00:00</td>\n",
       "      <td>775.000</td>\n",
       "      <td>28</td>\n",
       "      <td>31</td>\n",
       "      <td>RI</td>\n",
       "      <td>0</td>\n",
       "    </tr>\n",
       "    <tr>\n",
       "      <th>5</th>\n",
       "      <td>2011-01-01 00:00:00</td>\n",
       "      <td>1438.000</td>\n",
       "      <td>28</td>\n",
       "      <td>31</td>\n",
       "      <td>SEMA</td>\n",
       "      <td>0</td>\n",
       "    </tr>\n",
       "    <tr>\n",
       "      <th>6</th>\n",
       "      <td>2011-01-01 00:00:00</td>\n",
       "      <td>1649.000</td>\n",
       "      <td>33</td>\n",
       "      <td>41</td>\n",
       "      <td>WCMA</td>\n",
       "      <td>0</td>\n",
       "    </tr>\n",
       "    <tr>\n",
       "      <th>7</th>\n",
       "      <td>2011-01-01 00:00:00</td>\n",
       "      <td>2474.000</td>\n",
       "      <td>29</td>\n",
       "      <td>41</td>\n",
       "      <td>NEMA</td>\n",
       "      <td>0</td>\n",
       "    </tr>\n",
       "    <tr>\n",
       "      <th>8</th>\n",
       "      <td>2011-01-01 00:00:00</td>\n",
       "      <td>5561.000</td>\n",
       "      <td>30</td>\n",
       "      <td>38</td>\n",
       "      <td>MA_TOTAL</td>\n",
       "      <td>0</td>\n",
       "    </tr>\n",
       "    <tr>\n",
       "      <th>9</th>\n",
       "      <td>2011-01-01 00:00:00</td>\n",
       "      <td>12056.000</td>\n",
       "      <td>29</td>\n",
       "      <td>35</td>\n",
       "      <td>TOTAL</td>\n",
       "      <td>0</td>\n",
       "    </tr>\n",
       "    <tr>\n",
       "      <th>10</th>\n",
       "      <td>2011-01-01 01:00:00</td>\n",
       "      <td>1000.000</td>\n",
       "      <td>28</td>\n",
       "      <td>31</td>\n",
       "      <td>ME</td>\n",
       "      <td>0</td>\n",
       "    </tr>\n",
       "    <tr>\n",
       "      <th>11</th>\n",
       "      <td>2011-01-01 01:00:00</td>\n",
       "      <td>985.000</td>\n",
       "      <td>25</td>\n",
       "      <td>27</td>\n",
       "      <td>NH</td>\n",
       "      <td>0</td>\n",
       "    </tr>\n",
       "    <tr>\n",
       "      <th>12</th>\n",
       "      <td>2011-01-01 01:00:00</td>\n",
       "      <td>540.000</td>\n",
       "      <td>34</td>\n",
       "      <td>40</td>\n",
       "      <td>VT</td>\n",
       "      <td>0</td>\n",
       "    </tr>\n",
       "    <tr>\n",
       "      <th>13</th>\n",
       "      <td>2011-01-01 01:00:00</td>\n",
       "      <td>2892.000</td>\n",
       "      <td>27</td>\n",
       "      <td>34</td>\n",
       "      <td>CT</td>\n",
       "      <td>0</td>\n",
       "    </tr>\n",
       "    <tr>\n",
       "      <th>14</th>\n",
       "      <td>2011-01-01 01:00:00</td>\n",
       "      <td>733.000</td>\n",
       "      <td>28</td>\n",
       "      <td>32</td>\n",
       "      <td>RI</td>\n",
       "      <td>0</td>\n",
       "    </tr>\n",
       "    <tr>\n",
       "      <th>15</th>\n",
       "      <td>2011-01-01 01:00:00</td>\n",
       "      <td>1348.000</td>\n",
       "      <td>28</td>\n",
       "      <td>32</td>\n",
       "      <td>SEMA</td>\n",
       "      <td>0</td>\n",
       "    </tr>\n",
       "    <tr>\n",
       "      <th>16</th>\n",
       "      <td>2011-01-01 01:00:00</td>\n",
       "      <td>1565.000</td>\n",
       "      <td>31</td>\n",
       "      <td>39</td>\n",
       "      <td>WCMA</td>\n",
       "      <td>0</td>\n",
       "    </tr>\n",
       "    <tr>\n",
       "      <th>17</th>\n",
       "      <td>2011-01-01 01:00:00</td>\n",
       "      <td>2367.000</td>\n",
       "      <td>30</td>\n",
       "      <td>40</td>\n",
       "      <td>NEMA</td>\n",
       "      <td>0</td>\n",
       "    </tr>\n",
       "    <tr>\n",
       "      <th>18</th>\n",
       "      <td>2011-01-01 01:00:00</td>\n",
       "      <td>5280.000</td>\n",
       "      <td>30</td>\n",
       "      <td>37</td>\n",
       "      <td>MA_TOTAL</td>\n",
       "      <td>0</td>\n",
       "    </tr>\n",
       "    <tr>\n",
       "      <th>19</th>\n",
       "      <td>2011-01-01 01:00:00</td>\n",
       "      <td>11430.000</td>\n",
       "      <td>29</td>\n",
       "      <td>34</td>\n",
       "      <td>TOTAL</td>\n",
       "      <td>0</td>\n",
       "    </tr>\n",
       "    <tr>\n",
       "      <th>20</th>\n",
       "      <td>2011-01-01 02:00:00</td>\n",
       "      <td>964.000</td>\n",
       "      <td>28</td>\n",
       "      <td>32</td>\n",
       "      <td>ME</td>\n",
       "      <td>0</td>\n",
       "    </tr>\n",
       "    <tr>\n",
       "      <th>21</th>\n",
       "      <td>2011-01-01 02:00:00</td>\n",
       "      <td>937.000</td>\n",
       "      <td>26</td>\n",
       "      <td>28</td>\n",
       "      <td>NH</td>\n",
       "      <td>0</td>\n",
       "    </tr>\n",
       "    <tr>\n",
       "      <th>22</th>\n",
       "      <td>2011-01-01 02:00:00</td>\n",
       "      <td>516.000</td>\n",
       "      <td>34</td>\n",
       "      <td>42</td>\n",
       "      <td>VT</td>\n",
       "      <td>0</td>\n",
       "    </tr>\n",
       "    <tr>\n",
       "      <th>23</th>\n",
       "      <td>2011-01-01 02:00:00</td>\n",
       "      <td>2774.000</td>\n",
       "      <td>27</td>\n",
       "      <td>34</td>\n",
       "      <td>CT</td>\n",
       "      <td>0</td>\n",
       "    </tr>\n",
       "    <tr>\n",
       "      <th>24</th>\n",
       "      <td>2011-01-01 02:00:00</td>\n",
       "      <td>702.000</td>\n",
       "      <td>27</td>\n",
       "      <td>29</td>\n",
       "      <td>RI</td>\n",
       "      <td>0</td>\n",
       "    </tr>\n",
       "    <tr>\n",
       "      <th>25</th>\n",
       "      <td>2011-01-01 02:00:00</td>\n",
       "      <td>1286.000</td>\n",
       "      <td>27</td>\n",
       "      <td>29</td>\n",
       "      <td>SEMA</td>\n",
       "      <td>0</td>\n",
       "    </tr>\n",
       "    <tr>\n",
       "      <th>26</th>\n",
       "      <td>2011-01-01 02:00:00</td>\n",
       "      <td>1506.000</td>\n",
       "      <td>32</td>\n",
       "      <td>39</td>\n",
       "      <td>WCMA</td>\n",
       "      <td>0</td>\n",
       "    </tr>\n",
       "    <tr>\n",
       "      <th>27</th>\n",
       "      <td>2011-01-01 02:00:00</td>\n",
       "      <td>2282.000</td>\n",
       "      <td>29</td>\n",
       "      <td>37</td>\n",
       "      <td>NEMA</td>\n",
       "      <td>0</td>\n",
       "    </tr>\n",
       "    <tr>\n",
       "      <th>28</th>\n",
       "      <td>2011-01-01 02:00:00</td>\n",
       "      <td>5074.000</td>\n",
       "      <td>29</td>\n",
       "      <td>35</td>\n",
       "      <td>MA_TOTAL</td>\n",
       "      <td>0</td>\n",
       "    </tr>\n",
       "    <tr>\n",
       "      <th>29</th>\n",
       "      <td>2011-01-01 02:00:00</td>\n",
       "      <td>10967.000</td>\n",
       "      <td>29</td>\n",
       "      <td>34</td>\n",
       "      <td>TOTAL</td>\n",
       "      <td>0</td>\n",
       "    </tr>\n",
       "    <tr>\n",
       "      <th>...</th>\n",
       "      <td>...</td>\n",
       "      <td>...</td>\n",
       "      <td>...</td>\n",
       "      <td>...</td>\n",
       "      <td>...</td>\n",
       "      <td>...</td>\n",
       "    </tr>\n",
       "    <tr>\n",
       "      <th>533490</th>\n",
       "      <td>2017-01-31 21:00:00</td>\n",
       "      <td>1388.410</td>\n",
       "      <td>13</td>\n",
       "      <td>21</td>\n",
       "      <td>ME</td>\n",
       "      <td>0</td>\n",
       "    </tr>\n",
       "    <tr>\n",
       "      <th>533491</th>\n",
       "      <td>2017-01-31 21:00:00</td>\n",
       "      <td>1467.550</td>\n",
       "      <td>17</td>\n",
       "      <td>23</td>\n",
       "      <td>NH</td>\n",
       "      <td>0</td>\n",
       "    </tr>\n",
       "    <tr>\n",
       "      <th>533492</th>\n",
       "      <td>2017-01-31 21:00:00</td>\n",
       "      <td>739.649</td>\n",
       "      <td>10</td>\n",
       "      <td>24</td>\n",
       "      <td>VT</td>\n",
       "      <td>0</td>\n",
       "    </tr>\n",
       "    <tr>\n",
       "      <th>533493</th>\n",
       "      <td>2017-01-31 21:00:00</td>\n",
       "      <td>3826.179</td>\n",
       "      <td>22</td>\n",
       "      <td>24</td>\n",
       "      <td>CT</td>\n",
       "      <td>0</td>\n",
       "    </tr>\n",
       "    <tr>\n",
       "      <th>533494</th>\n",
       "      <td>2017-01-31 21:00:00</td>\n",
       "      <td>997.811</td>\n",
       "      <td>22</td>\n",
       "      <td>26</td>\n",
       "      <td>RI</td>\n",
       "      <td>0</td>\n",
       "    </tr>\n",
       "    <tr>\n",
       "      <th>533495</th>\n",
       "      <td>2017-01-31 21:00:00</td>\n",
       "      <td>1837.866</td>\n",
       "      <td>22</td>\n",
       "      <td>26</td>\n",
       "      <td>SEMA</td>\n",
       "      <td>0</td>\n",
       "    </tr>\n",
       "    <tr>\n",
       "      <th>533496</th>\n",
       "      <td>2017-01-31 21:00:00</td>\n",
       "      <td>2191.033</td>\n",
       "      <td>19</td>\n",
       "      <td>21</td>\n",
       "      <td>WCMA</td>\n",
       "      <td>0</td>\n",
       "    </tr>\n",
       "    <tr>\n",
       "      <th>533497</th>\n",
       "      <td>2017-01-31 21:00:00</td>\n",
       "      <td>3088.299</td>\n",
       "      <td>26</td>\n",
       "      <td>28</td>\n",
       "      <td>NEMA</td>\n",
       "      <td>0</td>\n",
       "    </tr>\n",
       "    <tr>\n",
       "      <th>533498</th>\n",
       "      <td>2017-01-31 21:00:00</td>\n",
       "      <td>7117.198</td>\n",
       "      <td>22</td>\n",
       "      <td>25</td>\n",
       "      <td>MA_TOTAL</td>\n",
       "      <td>0</td>\n",
       "    </tr>\n",
       "    <tr>\n",
       "      <th>533499</th>\n",
       "      <td>2017-01-31 21:00:00</td>\n",
       "      <td>15536.797</td>\n",
       "      <td>19</td>\n",
       "      <td>24</td>\n",
       "      <td>TOTAL</td>\n",
       "      <td>0</td>\n",
       "    </tr>\n",
       "    <tr>\n",
       "      <th>533500</th>\n",
       "      <td>2017-01-31 22:00:00</td>\n",
       "      <td>1286.567</td>\n",
       "      <td>14</td>\n",
       "      <td>22</td>\n",
       "      <td>ME</td>\n",
       "      <td>0</td>\n",
       "    </tr>\n",
       "    <tr>\n",
       "      <th>533501</th>\n",
       "      <td>2017-01-31 22:00:00</td>\n",
       "      <td>1332.905</td>\n",
       "      <td>18</td>\n",
       "      <td>23</td>\n",
       "      <td>NH</td>\n",
       "      <td>0</td>\n",
       "    </tr>\n",
       "    <tr>\n",
       "      <th>533502</th>\n",
       "      <td>2017-01-31 22:00:00</td>\n",
       "      <td>687.055</td>\n",
       "      <td>10</td>\n",
       "      <td>23</td>\n",
       "      <td>VT</td>\n",
       "      <td>0</td>\n",
       "    </tr>\n",
       "    <tr>\n",
       "      <th>533503</th>\n",
       "      <td>2017-01-31 22:00:00</td>\n",
       "      <td>3476.529</td>\n",
       "      <td>22</td>\n",
       "      <td>24</td>\n",
       "      <td>CT</td>\n",
       "      <td>0</td>\n",
       "    </tr>\n",
       "    <tr>\n",
       "      <th>533504</th>\n",
       "      <td>2017-01-31 22:00:00</td>\n",
       "      <td>907.745</td>\n",
       "      <td>23</td>\n",
       "      <td>26</td>\n",
       "      <td>RI</td>\n",
       "      <td>0</td>\n",
       "    </tr>\n",
       "    <tr>\n",
       "      <th>533505</th>\n",
       "      <td>2017-01-31 22:00:00</td>\n",
       "      <td>1652.095</td>\n",
       "      <td>23</td>\n",
       "      <td>26</td>\n",
       "      <td>SEMA</td>\n",
       "      <td>0</td>\n",
       "    </tr>\n",
       "    <tr>\n",
       "      <th>533506</th>\n",
       "      <td>2017-01-31 22:00:00</td>\n",
       "      <td>2004.723</td>\n",
       "      <td>19</td>\n",
       "      <td>22</td>\n",
       "      <td>WCMA</td>\n",
       "      <td>0</td>\n",
       "    </tr>\n",
       "    <tr>\n",
       "      <th>533507</th>\n",
       "      <td>2017-01-31 22:00:00</td>\n",
       "      <td>2833.341</td>\n",
       "      <td>26</td>\n",
       "      <td>28</td>\n",
       "      <td>NEMA</td>\n",
       "      <td>0</td>\n",
       "    </tr>\n",
       "    <tr>\n",
       "      <th>533508</th>\n",
       "      <td>2017-01-31 22:00:00</td>\n",
       "      <td>6490.159</td>\n",
       "      <td>23</td>\n",
       "      <td>25</td>\n",
       "      <td>MA_TOTAL</td>\n",
       "      <td>0</td>\n",
       "    </tr>\n",
       "    <tr>\n",
       "      <th>533509</th>\n",
       "      <td>2017-01-31 22:00:00</td>\n",
       "      <td>14180.960</td>\n",
       "      <td>19</td>\n",
       "      <td>24</td>\n",
       "      <td>TOTAL</td>\n",
       "      <td>0</td>\n",
       "    </tr>\n",
       "    <tr>\n",
       "      <th>533510</th>\n",
       "      <td>2017-01-31 23:00:00</td>\n",
       "      <td>1205.394</td>\n",
       "      <td>15</td>\n",
       "      <td>23</td>\n",
       "      <td>ME</td>\n",
       "      <td>0</td>\n",
       "    </tr>\n",
       "    <tr>\n",
       "      <th>533511</th>\n",
       "      <td>2017-01-31 23:00:00</td>\n",
       "      <td>1220.254</td>\n",
       "      <td>18</td>\n",
       "      <td>23</td>\n",
       "      <td>NH</td>\n",
       "      <td>0</td>\n",
       "    </tr>\n",
       "    <tr>\n",
       "      <th>533512</th>\n",
       "      <td>2017-01-31 23:00:00</td>\n",
       "      <td>636.720</td>\n",
       "      <td>11</td>\n",
       "      <td>21</td>\n",
       "      <td>VT</td>\n",
       "      <td>0</td>\n",
       "    </tr>\n",
       "    <tr>\n",
       "      <th>533513</th>\n",
       "      <td>2017-01-31 23:00:00</td>\n",
       "      <td>3179.833</td>\n",
       "      <td>22</td>\n",
       "      <td>25</td>\n",
       "      <td>CT</td>\n",
       "      <td>0</td>\n",
       "    </tr>\n",
       "    <tr>\n",
       "      <th>533514</th>\n",
       "      <td>2017-01-31 23:00:00</td>\n",
       "      <td>837.461</td>\n",
       "      <td>23</td>\n",
       "      <td>27</td>\n",
       "      <td>RI</td>\n",
       "      <td>0</td>\n",
       "    </tr>\n",
       "    <tr>\n",
       "      <th>533515</th>\n",
       "      <td>2017-01-31 23:00:00</td>\n",
       "      <td>1500.734</td>\n",
       "      <td>23</td>\n",
       "      <td>27</td>\n",
       "      <td>SEMA</td>\n",
       "      <td>0</td>\n",
       "    </tr>\n",
       "    <tr>\n",
       "      <th>533516</th>\n",
       "      <td>2017-01-31 23:00:00</td>\n",
       "      <td>1859.799</td>\n",
       "      <td>20</td>\n",
       "      <td>22</td>\n",
       "      <td>WCMA</td>\n",
       "      <td>0</td>\n",
       "    </tr>\n",
       "    <tr>\n",
       "      <th>533517</th>\n",
       "      <td>2017-01-31 23:00:00</td>\n",
       "      <td>2613.380</td>\n",
       "      <td>25</td>\n",
       "      <td>28</td>\n",
       "      <td>NEMA</td>\n",
       "      <td>0</td>\n",
       "    </tr>\n",
       "    <tr>\n",
       "      <th>533518</th>\n",
       "      <td>2017-01-31 23:00:00</td>\n",
       "      <td>5973.913</td>\n",
       "      <td>23</td>\n",
       "      <td>26</td>\n",
       "      <td>MA_TOTAL</td>\n",
       "      <td>0</td>\n",
       "    </tr>\n",
       "    <tr>\n",
       "      <th>533519</th>\n",
       "      <td>2017-01-31 23:00:00</td>\n",
       "      <td>13053.575</td>\n",
       "      <td>20</td>\n",
       "      <td>24</td>\n",
       "      <td>TOTAL</td>\n",
       "      <td>0</td>\n",
       "    </tr>\n",
       "  </tbody>\n",
       "</table>\n",
       "<p>533520 rows × 6 columns</p>\n",
       "</div>"
      ],
      "text/plain": [
       "                  Datetime     DEMAND  DewPnt  DryBulb      Zone  Holiday\n",
       "0      2011-01-01 00:00:00   1048.000      28       31        ME        0\n",
       "1      2011-01-01 00:00:00   1044.000      26       28        NH        0\n",
       "2      2011-01-01 00:00:00    575.000      35       43        VT        0\n",
       "3      2011-01-01 00:00:00   3053.000      27       33        CT        0\n",
       "4      2011-01-01 00:00:00    775.000      28       31        RI        0\n",
       "5      2011-01-01 00:00:00   1438.000      28       31      SEMA        0\n",
       "6      2011-01-01 00:00:00   1649.000      33       41      WCMA        0\n",
       "7      2011-01-01 00:00:00   2474.000      29       41      NEMA        0\n",
       "8      2011-01-01 00:00:00   5561.000      30       38  MA_TOTAL        0\n",
       "9      2011-01-01 00:00:00  12056.000      29       35     TOTAL        0\n",
       "10     2011-01-01 01:00:00   1000.000      28       31        ME        0\n",
       "11     2011-01-01 01:00:00    985.000      25       27        NH        0\n",
       "12     2011-01-01 01:00:00    540.000      34       40        VT        0\n",
       "13     2011-01-01 01:00:00   2892.000      27       34        CT        0\n",
       "14     2011-01-01 01:00:00    733.000      28       32        RI        0\n",
       "15     2011-01-01 01:00:00   1348.000      28       32      SEMA        0\n",
       "16     2011-01-01 01:00:00   1565.000      31       39      WCMA        0\n",
       "17     2011-01-01 01:00:00   2367.000      30       40      NEMA        0\n",
       "18     2011-01-01 01:00:00   5280.000      30       37  MA_TOTAL        0\n",
       "19     2011-01-01 01:00:00  11430.000      29       34     TOTAL        0\n",
       "20     2011-01-01 02:00:00    964.000      28       32        ME        0\n",
       "21     2011-01-01 02:00:00    937.000      26       28        NH        0\n",
       "22     2011-01-01 02:00:00    516.000      34       42        VT        0\n",
       "23     2011-01-01 02:00:00   2774.000      27       34        CT        0\n",
       "24     2011-01-01 02:00:00    702.000      27       29        RI        0\n",
       "25     2011-01-01 02:00:00   1286.000      27       29      SEMA        0\n",
       "26     2011-01-01 02:00:00   1506.000      32       39      WCMA        0\n",
       "27     2011-01-01 02:00:00   2282.000      29       37      NEMA        0\n",
       "28     2011-01-01 02:00:00   5074.000      29       35  MA_TOTAL        0\n",
       "29     2011-01-01 02:00:00  10967.000      29       34     TOTAL        0\n",
       "...                    ...        ...     ...      ...       ...      ...\n",
       "533490 2017-01-31 21:00:00   1388.410      13       21        ME        0\n",
       "533491 2017-01-31 21:00:00   1467.550      17       23        NH        0\n",
       "533492 2017-01-31 21:00:00    739.649      10       24        VT        0\n",
       "533493 2017-01-31 21:00:00   3826.179      22       24        CT        0\n",
       "533494 2017-01-31 21:00:00    997.811      22       26        RI        0\n",
       "533495 2017-01-31 21:00:00   1837.866      22       26      SEMA        0\n",
       "533496 2017-01-31 21:00:00   2191.033      19       21      WCMA        0\n",
       "533497 2017-01-31 21:00:00   3088.299      26       28      NEMA        0\n",
       "533498 2017-01-31 21:00:00   7117.198      22       25  MA_TOTAL        0\n",
       "533499 2017-01-31 21:00:00  15536.797      19       24     TOTAL        0\n",
       "533500 2017-01-31 22:00:00   1286.567      14       22        ME        0\n",
       "533501 2017-01-31 22:00:00   1332.905      18       23        NH        0\n",
       "533502 2017-01-31 22:00:00    687.055      10       23        VT        0\n",
       "533503 2017-01-31 22:00:00   3476.529      22       24        CT        0\n",
       "533504 2017-01-31 22:00:00    907.745      23       26        RI        0\n",
       "533505 2017-01-31 22:00:00   1652.095      23       26      SEMA        0\n",
       "533506 2017-01-31 22:00:00   2004.723      19       22      WCMA        0\n",
       "533507 2017-01-31 22:00:00   2833.341      26       28      NEMA        0\n",
       "533508 2017-01-31 22:00:00   6490.159      23       25  MA_TOTAL        0\n",
       "533509 2017-01-31 22:00:00  14180.960      19       24     TOTAL        0\n",
       "533510 2017-01-31 23:00:00   1205.394      15       23        ME        0\n",
       "533511 2017-01-31 23:00:00   1220.254      18       23        NH        0\n",
       "533512 2017-01-31 23:00:00    636.720      11       21        VT        0\n",
       "533513 2017-01-31 23:00:00   3179.833      22       25        CT        0\n",
       "533514 2017-01-31 23:00:00    837.461      23       27        RI        0\n",
       "533515 2017-01-31 23:00:00   1500.734      23       27      SEMA        0\n",
       "533516 2017-01-31 23:00:00   1859.799      20       22      WCMA        0\n",
       "533517 2017-01-31 23:00:00   2613.380      25       28      NEMA        0\n",
       "533518 2017-01-31 23:00:00   5973.913      23       26  MA_TOTAL        0\n",
       "533519 2017-01-31 23:00:00  13053.575      20       24     TOTAL        0\n",
       "\n",
       "[533520 rows x 6 columns]"
      ]
     },
     "execution_count": 3,
     "metadata": {},
     "output_type": "execute_result"
    }
   ],
   "source": [
    "train_base = pd.read_csv(os.path.join(train_data_dir, 'train_base.csv'),parse_dates=['Datetime'])\n",
    "train_round_6 = pd.read_csv(os.path.join(train_data_dir, 'train_round_6.csv'),parse_dates=['Datetime'])\n",
    "train_all = pd.concat([train_base, train_round_6]).reset_index(drop=True)\n",
    "train_all"
   ]
  },
  {
   "cell_type": "markdown",
   "metadata": {},
   "source": [
    "Check if there are missing values in any of the columns"
   ]
  },
  {
   "cell_type": "code",
   "execution_count": 4,
   "metadata": {},
   "outputs": [
    {
     "name": "stdout",
     "output_type": "stream",
     "text": [
      "Number of missing values: 0\n"
     ]
    }
   ],
   "source": [
    "print(\"Number of missing values: {}\".format(train_all.isna().sum().sum()))"
   ]
  },
  {
   "cell_type": "markdown",
   "metadata": {},
   "source": [
    "Summary of the distribution of values of numeric columns"
   ]
  },
  {
   "cell_type": "code",
   "execution_count": 5,
   "metadata": {},
   "outputs": [
    {
     "data": {
      "text/html": [
       "<div>\n",
       "<style scoped>\n",
       "    .dataframe tbody tr th:only-of-type {\n",
       "        vertical-align: middle;\n",
       "    }\n",
       "\n",
       "    .dataframe tbody tr th {\n",
       "        vertical-align: top;\n",
       "    }\n",
       "\n",
       "    .dataframe thead th {\n",
       "        text-align: right;\n",
       "    }\n",
       "</style>\n",
       "<table border=\"1\" class=\"dataframe\">\n",
       "  <thead>\n",
       "    <tr style=\"text-align: right;\">\n",
       "      <th></th>\n",
       "      <th>DEMAND</th>\n",
       "      <th>DewPnt</th>\n",
       "      <th>DryBulb</th>\n",
       "      <th>Holiday</th>\n",
       "    </tr>\n",
       "  </thead>\n",
       "  <tbody>\n",
       "    <tr>\n",
       "      <th>count</th>\n",
       "      <td>533520.000000</td>\n",
       "      <td>533520.000000</td>\n",
       "      <td>533520.000000</td>\n",
       "      <td>533520.000000</td>\n",
       "    </tr>\n",
       "    <tr>\n",
       "      <th>mean</th>\n",
       "      <td>3520.982876</td>\n",
       "      <td>38.473889</td>\n",
       "      <td>50.123270</td>\n",
       "      <td>0.149348</td>\n",
       "    </tr>\n",
       "    <tr>\n",
       "      <th>std</th>\n",
       "      <td>4093.774479</td>\n",
       "      <td>19.852379</td>\n",
       "      <td>19.047758</td>\n",
       "      <td>1.009273</td>\n",
       "    </tr>\n",
       "    <tr>\n",
       "      <th>min</th>\n",
       "      <td>226.000000</td>\n",
       "      <td>-29.000000</td>\n",
       "      <td>-20.000000</td>\n",
       "      <td>0.000000</td>\n",
       "    </tr>\n",
       "    <tr>\n",
       "      <th>25%</th>\n",
       "      <td>1163.320000</td>\n",
       "      <td>24.000000</td>\n",
       "      <td>35.000000</td>\n",
       "      <td>0.000000</td>\n",
       "    </tr>\n",
       "    <tr>\n",
       "      <th>50%</th>\n",
       "      <td>1824.438500</td>\n",
       "      <td>40.000000</td>\n",
       "      <td>51.000000</td>\n",
       "      <td>0.000000</td>\n",
       "    </tr>\n",
       "    <tr>\n",
       "      <th>75%</th>\n",
       "      <td>3628.000000</td>\n",
       "      <td>55.000000</td>\n",
       "      <td>65.000000</td>\n",
       "      <td>0.000000</td>\n",
       "    </tr>\n",
       "    <tr>\n",
       "      <th>max</th>\n",
       "      <td>27334.000000</td>\n",
       "      <td>78.000000</td>\n",
       "      <td>102.000000</td>\n",
       "      <td>10.000000</td>\n",
       "    </tr>\n",
       "  </tbody>\n",
       "</table>\n",
       "</div>"
      ],
      "text/plain": [
       "              DEMAND         DewPnt        DryBulb        Holiday\n",
       "count  533520.000000  533520.000000  533520.000000  533520.000000\n",
       "mean     3520.982876      38.473889      50.123270       0.149348\n",
       "std      4093.774479      19.852379      19.047758       1.009273\n",
       "min       226.000000     -29.000000     -20.000000       0.000000\n",
       "25%      1163.320000      24.000000      35.000000       0.000000\n",
       "50%      1824.438500      40.000000      51.000000       0.000000\n",
       "75%      3628.000000      55.000000      65.000000       0.000000\n",
       "max     27334.000000      78.000000     102.000000      10.000000"
      ]
     },
     "execution_count": 5,
     "metadata": {},
     "output_type": "execute_result"
    }
   ],
   "source": [
    "train_all.describe()"
   ]
  },
  {
   "cell_type": "markdown",
   "metadata": {},
   "source": [
    "Show all distinct zones and their timespans"
   ]
  },
  {
   "cell_type": "code",
   "execution_count": 6,
   "metadata": {},
   "outputs": [
    {
     "data": {
      "text/html": [
       "<div>\n",
       "<style scoped>\n",
       "    .dataframe tbody tr th:only-of-type {\n",
       "        vertical-align: middle;\n",
       "    }\n",
       "\n",
       "    .dataframe tbody tr th {\n",
       "        vertical-align: top;\n",
       "    }\n",
       "\n",
       "    .dataframe thead th {\n",
       "        text-align: right;\n",
       "    }\n",
       "</style>\n",
       "<table border=\"1\" class=\"dataframe\">\n",
       "  <thead>\n",
       "    <tr style=\"text-align: right;\">\n",
       "      <th></th>\n",
       "      <th>Zone</th>\n",
       "      <th>min time</th>\n",
       "      <th>max time</th>\n",
       "    </tr>\n",
       "  </thead>\n",
       "  <tbody>\n",
       "    <tr>\n",
       "      <th>0</th>\n",
       "      <td>CT</td>\n",
       "      <td>2011-01-01</td>\n",
       "      <td>2017-01-31 23:00:00</td>\n",
       "    </tr>\n",
       "    <tr>\n",
       "      <th>1</th>\n",
       "      <td>MA_TOTAL</td>\n",
       "      <td>2011-01-01</td>\n",
       "      <td>2017-01-31 23:00:00</td>\n",
       "    </tr>\n",
       "    <tr>\n",
       "      <th>2</th>\n",
       "      <td>ME</td>\n",
       "      <td>2011-01-01</td>\n",
       "      <td>2017-01-31 23:00:00</td>\n",
       "    </tr>\n",
       "    <tr>\n",
       "      <th>3</th>\n",
       "      <td>NEMA</td>\n",
       "      <td>2011-01-01</td>\n",
       "      <td>2017-01-31 23:00:00</td>\n",
       "    </tr>\n",
       "    <tr>\n",
       "      <th>4</th>\n",
       "      <td>NH</td>\n",
       "      <td>2011-01-01</td>\n",
       "      <td>2017-01-31 23:00:00</td>\n",
       "    </tr>\n",
       "    <tr>\n",
       "      <th>5</th>\n",
       "      <td>RI</td>\n",
       "      <td>2011-01-01</td>\n",
       "      <td>2017-01-31 23:00:00</td>\n",
       "    </tr>\n",
       "    <tr>\n",
       "      <th>6</th>\n",
       "      <td>SEMA</td>\n",
       "      <td>2011-01-01</td>\n",
       "      <td>2017-01-31 23:00:00</td>\n",
       "    </tr>\n",
       "    <tr>\n",
       "      <th>7</th>\n",
       "      <td>TOTAL</td>\n",
       "      <td>2011-01-01</td>\n",
       "      <td>2017-01-31 23:00:00</td>\n",
       "    </tr>\n",
       "    <tr>\n",
       "      <th>8</th>\n",
       "      <td>VT</td>\n",
       "      <td>2011-01-01</td>\n",
       "      <td>2017-01-31 23:00:00</td>\n",
       "    </tr>\n",
       "    <tr>\n",
       "      <th>9</th>\n",
       "      <td>WCMA</td>\n",
       "      <td>2011-01-01</td>\n",
       "      <td>2017-01-31 23:00:00</td>\n",
       "    </tr>\n",
       "  </tbody>\n",
       "</table>\n",
       "</div>"
      ],
      "text/plain": [
       "       Zone   min time            max time\n",
       "0        CT 2011-01-01 2017-01-31 23:00:00\n",
       "1  MA_TOTAL 2011-01-01 2017-01-31 23:00:00\n",
       "2        ME 2011-01-01 2017-01-31 23:00:00\n",
       "3      NEMA 2011-01-01 2017-01-31 23:00:00\n",
       "4        NH 2011-01-01 2017-01-31 23:00:00\n",
       "5        RI 2011-01-01 2017-01-31 23:00:00\n",
       "6      SEMA 2011-01-01 2017-01-31 23:00:00\n",
       "7     TOTAL 2011-01-01 2017-01-31 23:00:00\n",
       "8        VT 2011-01-01 2017-01-31 23:00:00\n",
       "9      WCMA 2011-01-01 2017-01-31 23:00:00"
      ]
     },
     "execution_count": 6,
     "metadata": {},
     "output_type": "execute_result"
    }
   ],
   "source": [
    "train_all.groupby('Zone')['Datetime'].agg([np.min, np.max]).reset_index().\\\n",
    "          rename(columns={'amin':'min time', 'amax':'max time'})"
   ]
  },
  {
   "cell_type": "markdown",
   "metadata": {},
   "source": [
    "show summary of the distribution of DEMAND values across zones"
   ]
  },
  {
   "cell_type": "code",
   "execution_count": 7,
   "metadata": {},
   "outputs": [
    {
     "data": {
      "text/html": [
       "<div>\n",
       "<style scoped>\n",
       "    .dataframe tbody tr th:only-of-type {\n",
       "        vertical-align: middle;\n",
       "    }\n",
       "\n",
       "    .dataframe tbody tr th {\n",
       "        vertical-align: top;\n",
       "    }\n",
       "\n",
       "    .dataframe thead th {\n",
       "        text-align: right;\n",
       "    }\n",
       "</style>\n",
       "<table border=\"1\" class=\"dataframe\">\n",
       "  <thead>\n",
       "    <tr style=\"text-align: right;\">\n",
       "      <th></th>\n",
       "      <th>Zone</th>\n",
       "      <th>mean demand</th>\n",
       "      <th>min demand</th>\n",
       "      <th>max demand</th>\n",
       "    </tr>\n",
       "  </thead>\n",
       "  <tbody>\n",
       "    <tr>\n",
       "      <th>0</th>\n",
       "      <td>VT</td>\n",
       "      <td>651.190780</td>\n",
       "      <td>226.0</td>\n",
       "      <td>985.0</td>\n",
       "    </tr>\n",
       "    <tr>\n",
       "      <th>1</th>\n",
       "      <td>RI</td>\n",
       "      <td>932.365849</td>\n",
       "      <td>292.0</td>\n",
       "      <td>1967.0</td>\n",
       "    </tr>\n",
       "    <tr>\n",
       "      <th>2</th>\n",
       "      <td>ME</td>\n",
       "      <td>1308.564726</td>\n",
       "      <td>466.0</td>\n",
       "      <td>2135.0</td>\n",
       "    </tr>\n",
       "    <tr>\n",
       "      <th>3</th>\n",
       "      <td>NH</td>\n",
       "      <td>1328.804434</td>\n",
       "      <td>411.0</td>\n",
       "      <td>2433.0</td>\n",
       "    </tr>\n",
       "    <tr>\n",
       "      <th>4</th>\n",
       "      <td>SEMA</td>\n",
       "      <td>1703.738470</td>\n",
       "      <td>525.0</td>\n",
       "      <td>3645.0</td>\n",
       "    </tr>\n",
       "    <tr>\n",
       "      <th>5</th>\n",
       "      <td>WCMA</td>\n",
       "      <td>1975.466045</td>\n",
       "      <td>630.0</td>\n",
       "      <td>3650.0</td>\n",
       "    </tr>\n",
       "    <tr>\n",
       "      <th>6</th>\n",
       "      <td>NEMA</td>\n",
       "      <td>2904.959775</td>\n",
       "      <td>951.0</td>\n",
       "      <td>5658.0</td>\n",
       "    </tr>\n",
       "    <tr>\n",
       "      <th>7</th>\n",
       "      <td>CT</td>\n",
       "      <td>3507.742128</td>\n",
       "      <td>1084.0</td>\n",
       "      <td>7219.0</td>\n",
       "    </tr>\n",
       "    <tr>\n",
       "      <th>8</th>\n",
       "      <td>MA_TOTAL</td>\n",
       "      <td>6584.164328</td>\n",
       "      <td>2107.0</td>\n",
       "      <td>12891.0</td>\n",
       "    </tr>\n",
       "    <tr>\n",
       "      <th>9</th>\n",
       "      <td>TOTAL</td>\n",
       "      <td>14312.832227</td>\n",
       "      <td>4604.0</td>\n",
       "      <td>27334.0</td>\n",
       "    </tr>\n",
       "  </tbody>\n",
       "</table>\n",
       "</div>"
      ],
      "text/plain": [
       "       Zone   mean demand  min demand  max demand\n",
       "0        VT    651.190780       226.0       985.0\n",
       "1        RI    932.365849       292.0      1967.0\n",
       "2        ME   1308.564726       466.0      2135.0\n",
       "3        NH   1328.804434       411.0      2433.0\n",
       "4      SEMA   1703.738470       525.0      3645.0\n",
       "5      WCMA   1975.466045       630.0      3650.0\n",
       "6      NEMA   2904.959775       951.0      5658.0\n",
       "7        CT   3507.742128      1084.0      7219.0\n",
       "8  MA_TOTAL   6584.164328      2107.0     12891.0\n",
       "9     TOTAL  14312.832227      4604.0     27334.0"
      ]
     },
     "execution_count": 7,
     "metadata": {},
     "output_type": "execute_result"
    }
   ],
   "source": [
    "train_all.groupby('Zone')['DEMAND'].agg([np.mean, np.min, np.max]).\\\n",
    "          rename(columns={'mean':'mean demand', 'amin':'min demand', 'amax':'max demand'}).\\\n",
    "          sort_values(by='mean demand').reset_index()"
   ]
  },
  {
   "cell_type": "markdown",
   "metadata": {},
   "source": [
    "### Compute correlations between different features"
   ]
  },
  {
   "cell_type": "code",
   "execution_count": 42,
   "metadata": {},
   "outputs": [
    {
     "data": {
      "text/html": [
       "<div>\n",
       "<style scoped>\n",
       "    .dataframe tbody tr th:only-of-type {\n",
       "        vertical-align: middle;\n",
       "    }\n",
       "\n",
       "    .dataframe tbody tr th {\n",
       "        vertical-align: top;\n",
       "    }\n",
       "\n",
       "    .dataframe thead th {\n",
       "        text-align: right;\n",
       "    }\n",
       "</style>\n",
       "<table border=\"1\" class=\"dataframe\">\n",
       "  <thead>\n",
       "    <tr style=\"text-align: right;\">\n",
       "      <th></th>\n",
       "      <th>DEMAND</th>\n",
       "      <th>DewPnt</th>\n",
       "      <th>DryBulb</th>\n",
       "      <th>Holiday</th>\n",
       "    </tr>\n",
       "  </thead>\n",
       "  <tbody>\n",
       "    <tr>\n",
       "      <th>DEMAND</th>\n",
       "      <td>1.000000</td>\n",
       "      <td>0.024353</td>\n",
       "      <td>0.050296</td>\n",
       "      <td>-0.005875</td>\n",
       "    </tr>\n",
       "    <tr>\n",
       "      <th>DewPnt</th>\n",
       "      <td>0.024353</td>\n",
       "      <td>1.000000</td>\n",
       "      <td>0.902049</td>\n",
       "      <td>-0.012264</td>\n",
       "    </tr>\n",
       "    <tr>\n",
       "      <th>DryBulb</th>\n",
       "      <td>0.050296</td>\n",
       "      <td>0.902049</td>\n",
       "      <td>1.000000</td>\n",
       "      <td>-0.018461</td>\n",
       "    </tr>\n",
       "    <tr>\n",
       "      <th>Holiday</th>\n",
       "      <td>-0.005875</td>\n",
       "      <td>-0.012264</td>\n",
       "      <td>-0.018461</td>\n",
       "      <td>1.000000</td>\n",
       "    </tr>\n",
       "  </tbody>\n",
       "</table>\n",
       "</div>"
      ],
      "text/plain": [
       "           DEMAND    DewPnt   DryBulb   Holiday\n",
       "DEMAND   1.000000  0.024353  0.050296 -0.005875\n",
       "DewPnt   0.024353  1.000000  0.902049 -0.012264\n",
       "DryBulb  0.050296  0.902049  1.000000 -0.018461\n",
       "Holiday -0.005875 -0.012264 -0.018461  1.000000"
      ]
     },
     "execution_count": 42,
     "metadata": {},
     "output_type": "execute_result"
    }
   ],
   "source": [
    "train_all[['DEMAND','DewPnt','DryBulb','Holiday']].corr()"
   ]
  },
  {
   "cell_type": "markdown",
   "metadata": {},
   "source": [
    "This table shows that DewPnt and DryBulb features are highly correlated. "
   ]
  },
  {
   "cell_type": "markdown",
   "metadata": {},
   "source": [
    "### Visualize seasonalities in energy demand"
   ]
  },
  {
   "cell_type": "markdown",
   "metadata": {},
   "source": [
    "In this section we show that DEMAND data has multiple seasonalities"
   ]
  },
  {
   "cell_type": "code",
   "execution_count": 9,
   "metadata": {},
   "outputs": [
    {
     "data": {
      "text/plain": [
       "<matplotlib.axes._subplots.AxesSubplot at 0x22a83a037b8>"
      ]
     },
     "execution_count": 9,
     "metadata": {},
     "output_type": "execute_result"
    },
    {
     "data": {
      "image/png": "[encoded data removed]",
      "text/plain": [
       "<Figure size 1080x360 with 1 Axes>"
      ]
     },
     "metadata": {
      "needs_background": "light"
     },
     "output_type": "display_data"
    }
   ],
   "source": [
    "mean_demand = train_all.groupby('Datetime')['DEMAND'].mean()\n",
    "mean_demand.plot(title=\"Mean demand over 6.5 years\")"
   ]
  },
  {
   "cell_type": "markdown",
   "metadata": {},
   "source": [
    "#### Hourly seasonality"
   ]
  },
  {
   "cell_type": "markdown",
   "metadata": {},
   "source": [
    "The following graph shows that mean energy consumption has hourly seasonality. Energy consumption peaks around noon and then around 6pm. Also energy consumption drops significantly at night."
   ]
  },
  {
   "cell_type": "code",
   "execution_count": 10,
   "metadata": {},
   "outputs": [
    {
     "data": {
      "text/plain": [
       "<matplotlib.axes._subplots.AxesSubplot at 0x22a84fcc080>"
      ]
     },
     "execution_count": 10,
     "metadata": {},
     "output_type": "execute_result"
    },
    {
     "data": {
      "image/png": "[encoded data removed]",
      "text/plain": [
       "<Figure size 1080x360 with 1 Axes>"
      ]
     },
     "metadata": {
      "needs_background": "light"
     },
     "output_type": "display_data"
    }
   ],
   "source": [
    "mean_demand[:24*3].plot(title=\"Mean demand over 3 days\")"
   ]
  },
  {
   "cell_type": "markdown",
   "metadata": {},
   "source": [
    "#### Daily seasonality"
   ]
  },
  {
   "cell_type": "markdown",
   "metadata": {},
   "source": [
    "The following graph shows that mean energy consumption has daily seasonality. Energy consumption is higher at week days (January 3-7, January 10-14, January 17-22) and lower during weekend (January 1-2, January 8-9, January 15-16)."
   ]
  },
  {
   "cell_type": "code",
   "execution_count": 11,
   "metadata": {},
   "outputs": [
    {
     "data": {
      "text/plain": [
       "<matplotlib.axes._subplots.AxesSubplot at 0x22a85034400>"
      ]
     },
     "execution_count": 11,
     "metadata": {},
     "output_type": "execute_result"
    },
    {
     "data": {
      "image/png": "[encoded data removed]",
      "text/plain": [
       "<Figure size 1080x360 with 1 Axes>"
      ]
     },
     "metadata": {
      "needs_background": "light"
     },
     "output_type": "display_data"
    }
   ],
   "source": [
    "mean_demand[:24*21].plot(title=\"Mean demand over 21 days\")"
   ]
  },
  {
   "cell_type": "code",
   "execution_count": 12,
   "metadata": {},
   "outputs": [
    {
     "name": "stdout",
     "output_type": "stream",
     "text": [
      "Total demand during weekday: 86782.03 (averaged over all zones and weekdays)\n",
      "Total demand during weekend day: 78818.23 (averaged over all zones and weekend days)\n"
     ]
    }
   ],
   "source": [
    "mean_total_daily_demand = mean_demand.resample('24h').sum()\n",
    "weekday_mean_total_demand = mean_total_daily_demand[mean_total_daily_demand.index.dayofweek<5].mean()\n",
    "weekend_mean_total_demand = mean_total_daily_demand[mean_total_daily_demand.index.dayofweek>=5].mean()\n",
    "print('Total demand during weekday: {0:.2f} (averaged over all zones and weekdays)'.format(weekday_mean_total_demand))\n",
    "print('Total demand during weekend day: {0:.2f} (averaged over all zones and weekend days)'.format(weekend_mean_total_demand))"
   ]
  },
  {
   "cell_type": "markdown",
   "metadata": {},
   "source": [
    "#### Monthly seasonality"
   ]
  },
  {
   "cell_type": "markdown",
   "metadata": {},
   "source": [
    "The following graph shows that mean energy consumption has monthly seasonality. Energy consumption increases in winter and summer and decreases in spring and fall."
   ]
  },
  {
   "cell_type": "code",
   "execution_count": 13,
   "metadata": {},
   "outputs": [
    {
     "data": {
      "text/plain": [
       "<matplotlib.axes._subplots.AxesSubplot at 0x22a85745a20>"
      ]
     },
     "execution_count": 13,
     "metadata": {},
     "output_type": "execute_result"
    },
    {
     "data": {
      "image/png": "[encoded data removed]",
      "text/plain": [
       "<Figure size 1080x360 with 1 Axes>"
      ]
     },
     "metadata": {
      "needs_background": "light"
     },
     "output_type": "display_data"
    }
   ],
   "source": [
    "mean_demand.resample('1m').sum().plot(title=\"Total monthly demand (averaged over all zones)\")"
   ]
  },
  {
   "cell_type": "markdown",
   "metadata": {},
   "source": [
    "### Compute partial autocorrelation"
   ]
  },
  {
   "cell_type": "markdown",
   "metadata": {},
   "source": [
    "The following plot shows partial autocorrelation with of the lags up to 24 hours * 14 days = 2 weeks"
   ]
  },
  {
   "cell_type": "code",
   "execution_count": 53,
   "metadata": {},
   "outputs": [
    {
     "data": {
      "image/png": "[encoded data removed]",
      "text/plain": [
       "<Figure size 1080x360 with 1 Axes>"
      ]
     },
     "metadata": {
      "needs_background": "light"
     },
     "output_type": "display_data"
    }
   ],
   "source": [
    "plot_pacf(mean_demand, lags=24*14)\n",
    "plt.show()"
   ]
  },
  {
   "cell_type": "markdown",
   "metadata": {},
   "source": [
    "This graph shows that most of the lags are not correlated. In the next cell we find 20 lags with the largest partial autocorrelation."
   ]
  },
  {
   "cell_type": "code",
   "execution_count": 71,
   "metadata": {},
   "outputs": [
    {
     "name": "stdout",
     "output_type": "stream",
     "text": [
      "[  1   2  25  16  24  15 169  17 145  13  27  18  73  14 144 147 121 168\n",
      "  19  22]\n"
     ]
    }
   ],
   "source": [
    "pacf_values, pacf_conf_intervals = pacf(mean_demand, nlags=24*14, alpha=0.05)\n",
    "top20_lags = np.argsort(np.abs(pacf_values))[-2::-1][:20]\n",
    "print(top20_lags)"
   ]
  },
  {
   "cell_type": "markdown",
   "metadata": {},
   "source": [
    "The lags with the highest correlation are from today (lags 1,2,13-19), from about a day ago (lags 22, 24, 25, 27), from 3 days ago (lag 73), from 6 days ago (lags 144, 145, 147) and from 7 days ago (lags 168, 169)."
   ]
  },
  {
   "cell_type": "markdown",
   "metadata": {},
   "source": [
    "95% confidence intervals of 20 lags with the largest partial autocorrelation:"
   ]
  },
  {
   "cell_type": "code",
   "execution_count": 88,
   "metadata": {},
   "outputs": [
    {
     "data": {
      "text/plain": [
       "array([[ 0.95700344,  0.97397425],\n",
       "       [-0.79290758, -0.77593676],\n",
       "       [-0.48986384, -0.47289303],\n",
       "       [ 0.35485676,  0.37182757],\n",
       "       [-0.36515857, -0.34818776],\n",
       "       [ 0.26912724,  0.28609805],\n",
       "       [-0.27624145, -0.25927063],\n",
       "       [ 0.256673  ,  0.27364382],\n",
       "       [-0.25636719, -0.23939638],\n",
       "       [ 0.15484823,  0.17181904],\n",
       "       [ 0.15448782,  0.17145863],\n",
       "       [ 0.15333357,  0.17030439],\n",
       "       [-0.162287  , -0.14531618],\n",
       "       [ 0.13648539,  0.15345621],\n",
       "       [-0.14641572, -0.1294449 ],\n",
       "       [ 0.1191503 ,  0.13612111],\n",
       "       [-0.12967532, -0.1127045 ],\n",
       "       [-0.12728316, -0.11031234],\n",
       "       [ 0.10020409,  0.11717491],\n",
       "       [ 0.09950764,  0.11647846]])"
      ]
     },
     "execution_count": 88,
     "metadata": {},
     "output_type": "execute_result"
    }
   ],
   "source": [
    "pacf_conf_intervals[top20_lags]"
   ]
  },
  {
   "cell_type": "markdown",
   "metadata": {},
   "source": [
    "The 95% confidence intervals of partial correlations of these lags do not contain zeros. Hence all these lags have statistically significant partial autocorrelation."
   ]
  },
  {
   "cell_type": "markdown",
   "metadata": {},
   "source": [
    "This analysis suggests to use these lags when developing feature sets of energy demand forecasting models."
   ]
  }
 ],
 "metadata": {
  "anaconda-cloud": {},
  "kernelspec": {
   "display_name": "Python 3",
   "language": "python",
   "name": "python3"
  },
  "language_info": {
   "codemirror_mode": {
    "name": "ipython",
    "version": 3
   },
   "file_extension": ".py",
   "mimetype": "text/x-python",
   "name": "python",
   "nbconvert_exporter": "python",
   "pygments_lexer": "ipython3",
   "version": "3.6.7"
  }
 },
 "nbformat": 4,
 "nbformat_minor": 1
}
