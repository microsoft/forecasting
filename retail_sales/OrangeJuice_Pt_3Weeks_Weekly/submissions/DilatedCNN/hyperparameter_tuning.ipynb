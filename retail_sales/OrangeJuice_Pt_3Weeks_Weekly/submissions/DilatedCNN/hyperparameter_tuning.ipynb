{
 "cells": [
  {
   "cell_type": "code",
   "execution_count": 3,
   "metadata": {},
   "outputs": [
    {
     "name": "stdout",
     "output_type": "stream",
     "text": [
      "\u001b[33mThe directory '/home/chenhui/.cache/pip/http' or its parent directory is not owned by the current user and the cache has been disabled. Please check the permissions and owner of that directory. If executing pip with sudo, you may want sudo's -H flag.\u001b[0m\n",
      "\u001b[33mThe directory '/home/chenhui/.cache/pip' or its parent directory is not owned by the current user and caching wheels has been disabled. check the permissions and owner of that directory. If executing pip with sudo, you may want sudo's -H flag.\u001b[0m\n",
      "Collecting azureml-sdk[automl,notebooks]\n",
      "  Downloading https://files.pythonhosted.org/packages/78/1a/a312e326fe491f01a2fa26220066e3e8f2a33fef779f165694b09b522b79/azureml_sdk-0.1.74-py3-none-any.whl\n",
      "Collecting azureml-train==0.1.74.* (from azureml-sdk[automl,notebooks])\n",
      "  Downloading https://files.pythonhosted.org/packages/6a/3a/442ca39f58c9ea60bd1463d95fd8f10a3db5be77ca251ef7e9277a384cf3/azureml_train-0.1.74-py3-none-any.whl\n",
      "Collecting azureml-core==0.1.74.* (from azureml-sdk[automl,notebooks])\n",
      "  Downloading https://files.pythonhosted.org/packages/b4/e1/062c248f174389615422ad85c1fbd56b686c185743758fc5983957610bcf/azureml_core-0.1.74-py2.py3-none-any.whl (781kB)\n",
      "\u001b[K    100% |████████████████████████████████| 788kB 1.9MB/s eta 0:00:01\n",
      "\u001b[?25hCollecting azureml-pipeline==0.1.74.* (from azureml-sdk[automl,notebooks])\n",
      "  Downloading https://files.pythonhosted.org/packages/d5/c8/f4ff3c32b3f6dc2291c5ab7f31a4c6a37098fcd46a315b6d08386d7cf891/azureml_pipeline-0.1.74-py3-none-any.whl\n",
      "Collecting azureml-train-automl==0.1.74.*; extra == \"automl\" (from azureml-sdk[automl,notebooks])\n",
      "  Downloading https://files.pythonhosted.org/packages/42/7e/a212dbe5585f9d21eac29d014582a1e13727576c46067afff1f54996007c/azureml_train_automl-0.1.74-py3-none-any.whl (146kB)\n",
      "\u001b[K    100% |████████████████████████████████| 153kB 10.3MB/s ta 0:00:01\n",
      "\u001b[?25hCollecting azureml-train-widgets==0.1.74.*; extra == \"notebooks\" (from azureml-sdk[automl,notebooks])\n",
      "  Downloading https://files.pythonhosted.org/packages/5b/64/70f67d4efc7565d69d5c9e64f0724bd241164150dd8550060aedc5ea5de5/azureml_train_widgets-0.1.74-py3-none-any.whl (8.1MB)\n",
      "\u001b[K    100% |████████████████████████████████| 8.2MB 215kB/s eta 0:00:01\n",
      "\u001b[?25hCollecting azureml-train-core==0.1.74.* (from azureml-train==0.1.74.*->azureml-sdk[automl,notebooks])\n",
      "  Downloading https://files.pythonhosted.org/packages/3c/6a/097c22b968f2b02e530a7cbd4e625148cdd19e84160383f7c8ffc9a3e501/azureml_train_core-0.1.74-py3-none-any.whl (63kB)\n",
      "\u001b[K    100% |████████████████████████████████| 71kB 14.9MB/s ta 0:00:01\n",
      "\u001b[?25hCollecting azure-mgmt-storage>=1.5.0 (from azureml-core==0.1.74.*->azureml-sdk[automl,notebooks])\n",
      "  Downloading https://files.pythonhosted.org/packages/e8/d9/496b29857a252bc3fcc4bbda069c0eb64b537c8e8f7e342abb4053ba920f/azure_mgmt_storage-3.1.0-py2.py3-none-any.whl (696kB)\n",
      "\u001b[K    100% |████████████████████████████████| 706kB 2.3MB/s eta 0:00:01\n",
      "\u001b[?25hCollecting ruamel.yaml<=0.15.51,>=0.15.35 (from azureml-core==0.1.74.*->azureml-sdk[automl,notebooks])\n",
      "  Downloading https://files.pythonhosted.org/packages/45/34/4818c6936fbe2a8dbda9430eb50d7e2e035e24db0ee5b232c68c54cb0c44/ruamel.yaml-0.15.51-cp35-cp35m-manylinux1_x86_64.whl (620kB)\n",
      "\u001b[K    100% |████████████████████████████████| 624kB 2.4MB/s eta 0:00:01\n",
      "\u001b[?25hCollecting azure-mgmt-authorization>=0.40.0 (from azureml-core==0.1.74.*->azureml-sdk[automl,notebooks])\n",
      "  Downloading https://files.pythonhosted.org/packages/20/91/cad6fb2eb9ad106c8d5bd45514af2772c956e921f57b85db6bd0919923e7/azure_mgmt_authorization-0.51.0-py2.py3-none-any.whl (111kB)\n",
      "\u001b[K    100% |████████████████████████████████| 112kB 13.8MB/s ta 0:00:01\n",
      "\u001b[?25hCollecting azure-common>=1.1.12 (from azureml-core==0.1.74.*->azureml-sdk[automl,notebooks])\n",
      "  Downloading https://files.pythonhosted.org/packages/ac/d3/055ce7ad06459a415ff9ca210e04c6cbb51bd6564815b7c8ac34bf5a1c39/azure_common-1.1.16-py2.py3-none-any.whl\n",
      "Collecting azure-storage-nspkg>=3.0.0 (from azureml-core==0.1.74.*->azureml-sdk[automl,notebooks])\n",
      "  Downloading https://files.pythonhosted.org/packages/ba/f6/054ace7b01c6c21b3b95a83c3997f7d6539d939a2c08c4f27f779128a030/azure_storage_nspkg-3.1.0-py2.py3-none-any.whl\n",
      "Collecting azure-mgmt-containerregistry>=2.0.0 (from azureml-core==0.1.74.*->azureml-sdk[automl,notebooks])\n",
      "  Downloading https://files.pythonhosted.org/packages/35/d1/e8887811e8e5ab336e77db7cfb9f451bdae69a8ed97f53cc2cd11fdcac8f/azure_mgmt_containerregistry-2.4.0-py2.py3-none-any.whl (482kB)\n",
      "\u001b[K    100% |████████████████████████████████| 491kB 2.6MB/s eta 0:00:01\n",
      "\u001b[?25hCollecting ndg-httpsclient (from azureml-core==0.1.74.*->azureml-sdk[automl,notebooks])\n",
      "  Downloading https://files.pythonhosted.org/packages/fb/67/c2f508c00ed2a6911541494504b7cac16fe0b0473912568df65fd1801132/ndg_httpsclient-0.5.1-py3-none-any.whl\n",
      "Collecting contextlib2 (from azureml-core==0.1.74.*->azureml-sdk[automl,notebooks])\n",
      "  Downloading https://files.pythonhosted.org/packages/a2/71/8273a7eeed0aff6a854237ab5453bc9aa67deb49df4832801c21f0ff3782/contextlib2-0.5.5-py2.py3-none-any.whl\n",
      "Collecting python-dateutil>=2.7.3 (from azureml-core==0.1.74.*->azureml-sdk[automl,notebooks])\n",
      "  Downloading https://files.pythonhosted.org/packages/74/68/d87d9b36af36f44254a8d512cbfc48369103a3b9e474be9bdfe536abfc45/python_dateutil-2.7.5-py2.py3-none-any.whl (225kB)\n",
      "\u001b[K    100% |████████████████████████████████| 235kB 4.2MB/s eta 0:00:01\n",
      "\u001b[?25hCollecting azure-cli-profile>=2.0.26 (from azureml-core==0.1.74.*->azureml-sdk[automl,notebooks])\n",
      "  Downloading https://files.pythonhosted.org/packages/c2/d3/fdc722a1b61857250a76027d6d73a50182c6d85132ddd65600a8993574ce/azure_cli_profile-2.1.2-py2.py3-none-any.whl\n",
      "Collecting PyJWT (from azureml-core==0.1.74.*->azureml-sdk[automl,notebooks])\n",
      "  Downloading https://files.pythonhosted.org/packages/93/d1/3378cc8184a6524dc92993090ee8b4c03847c567e298305d6cf86987e005/PyJWT-1.6.4-py2.py3-none-any.whl\n",
      "Collecting msrest>=0.5.1 (from azureml-core==0.1.74.*->azureml-sdk[automl,notebooks])\n",
      "  Downloading https://files.pythonhosted.org/packages/dc/8e/05c45ff0c0f293e8d044030a0007a16ece0d39dbc7fa6bb911a2f53b649a/msrest-0.6.1-py2.py3-none-any.whl (81kB)\n",
      "\u001b[K    100% |████████████████████████████████| 81kB 13.9MB/s ta 0:00:01\n",
      "\u001b[?25hCollecting azure-storage-blob>=1.1.0 (from azureml-core==0.1.74.*->azureml-sdk[automl,notebooks])\n",
      "  Downloading https://files.pythonhosted.org/packages/f7/b7/9b20c39bf411e896d110d01f2551e6e7b397fde6eb06b07293fe29705d13/azure_storage_blob-1.4.0-py2.py3-none-any.whl (75kB)\n",
      "\u001b[K    100% |████████████████████████████████| 81kB 13.5MB/s ta 0:00:01\n",
      "\u001b[?25hCollecting docker (from azureml-core==0.1.74.*->azureml-sdk[automl,notebooks])\n",
      "  Downloading https://files.pythonhosted.org/packages/c2/76/b8091dc6d9db038af62ae88f228da656a84632cf5d7a84dcf54c613d3fd0/docker-3.5.1-py2.py3-none-any.whl (126kB)\n",
      "\u001b[K    100% |████████████████████████████████| 133kB 9.7MB/s eta 0:00:01\n",
      "\u001b[?25hCollecting pathspec (from azureml-core==0.1.74.*->azureml-sdk[automl,notebooks])\n",
      "  Downloading https://files.pythonhosted.org/packages/84/2a/bfee636b1e2f7d6e30dd74f49201ccfa5c3cf322d44929ecc6c137c486c5/pathspec-0.5.9.tar.gz\n",
      "Collecting SecretStorage<3.0.0 (from azureml-core==0.1.74.*->azureml-sdk[automl,notebooks])\n",
      "  Downloading https://files.pythonhosted.org/packages/a5/a5/0830cfe34a4cfd0d1c3c8b614ede1edb2aaf999091ac8548dd19cb352e79/SecretStorage-2.3.1.tar.gz\n",
      "Collecting backports.tempfile (from azureml-core==0.1.74.*->azureml-sdk[automl,notebooks])\n",
      "  Downloading https://files.pythonhosted.org/packages/b4/5c/077f910632476281428fe254807952eb47ca78e720d059a46178c541e669/backports.tempfile-1.0-py2.py3-none-any.whl\n",
      "Collecting requests>=2.19.1 (from azureml-core==0.1.74.*->azureml-sdk[automl,notebooks])\n",
      "  Downloading https://files.pythonhosted.org/packages/ff/17/5cbb026005115301a8fb2f9b0e3e8d32313142fe8b617070e7baad20554f/requests-2.20.1-py2.py3-none-any.whl (57kB)\n",
      "\u001b[K    100% |████████████████████████████████| 61kB 13.9MB/s ta 0:00:01\n",
      "\u001b[?25hCollecting azure-mgmt-resource>=1.2.1 (from azureml-core==0.1.74.*->azureml-sdk[automl,notebooks])\n",
      "  Downloading https://files.pythonhosted.org/packages/2b/26/c0cb69dfac2e5b7125db034045b8bcf937cf1e8d3df2009a87c33d0959f5/azure_mgmt_resource-2.0.0-py2.py3-none-any.whl (698kB)\n"
     ]
    },
    {
     "name": "stdout",
     "output_type": "stream",
     "text": [
      "\u001b[K    100% |████████████████████████████████| 706kB 1.8MB/s ta 0:00:011\n",
      "\u001b[?25hCollecting msrestazure>=0.4.33 (from azureml-core==0.1.74.*->azureml-sdk[automl,notebooks])\n",
      "  Downloading https://files.pythonhosted.org/packages/62/6e/c41d6e2db39f4c6b819cea5b47c36c0fa0e7a931cd39b4c5f19713d28fd1/msrestazure-0.5.1-py2.py3-none-any.whl\n",
      "Collecting urllib3<1.24,>=1.23 (from azureml-core==0.1.74.*->azureml-sdk[automl,notebooks])\n",
      "  Downloading https://files.pythonhosted.org/packages/bd/c9/6fdd990019071a4a32a5e7cb78a1d92c53851ef4f56f62a3486e6a7d8ffb/urllib3-1.23-py2.py3-none-any.whl (133kB)\n",
      "\u001b[K    100% |████████████████████████████████| 143kB 11.0MB/s ta 0:00:01\n",
      "\u001b[?25hCollecting jsonpickle (from azureml-core==0.1.74.*->azureml-sdk[automl,notebooks])\n",
      "  Downloading https://files.pythonhosted.org/packages/ca/ce/97404d5aeb58e6155c216825c81b50f6eca8a5345c582317ae48391878f8/jsonpickle-1.0-py2.py3-none-any.whl\n",
      "Requirement already up-to-date: six>=1.11.0 in /usr/local/lib/python3.5/dist-packages (from azureml-core==0.1.74.*->azureml-sdk[automl,notebooks])\n",
      "Collecting azure-mgmt-keyvault>=0.40.0 (from azureml-core==0.1.74.*->azureml-sdk[automl,notebooks])\n",
      "  Downloading https://files.pythonhosted.org/packages/49/de/0d69aedae7c5f6428314640b65947203ab80409c12b5d4e66fb5b7a4182e/azure_mgmt_keyvault-1.1.0-py2.py3-none-any.whl (111kB)\n",
      "\u001b[K    100% |████████████████████████████████| 112kB 13.6MB/s ta 0:00:01\n",
      "\u001b[?25hCollecting azure-cli-core>=2.0.38 (from azureml-core==0.1.74.*->azureml-sdk[automl,notebooks])\n",
      "  Downloading https://files.pythonhosted.org/packages/18/fa/4adcb8d2a7683ba972eb2b56d68f21cd0d5b43222c368c5ee6bc38cf2e4d/azure_cli_core-2.0.50-py2.py3-none-any.whl (107kB)\n",
      "\u001b[K    100% |████████████████████████████████| 112kB 13.2MB/s ta 0:00:01\n",
      "\u001b[?25hCollecting cryptography!=1.9,!=2.0.*,!=2.1.*,!=2.2.* (from azureml-core==0.1.74.*->azureml-sdk[automl,notebooks])\n",
      "  Downloading https://files.pythonhosted.org/packages/d2/5f/6ed3135eb1e775187f7ecd4e7713f1415516725365e51f9786143f36e024/cryptography-2.4.1.tar.gz (468kB)\n",
      "\u001b[K    100% |████████████████████████████████| 471kB 2.9MB/s eta 0:00:01\n",
      "\u001b[?25hCollecting azure-graphrbac>=0.40.0 (from azureml-core==0.1.74.*->azureml-sdk[automl,notebooks])\n",
      "  Downloading https://files.pythonhosted.org/packages/97/84/b4558e3f469c67497a2a5eaeb05321f91b1ee2d1205992a33f001d9c4bf9/azure_graphrbac-0.52.0-py2.py3-none-any.whl (108kB)\n",
      "\u001b[K    100% |████████████████████████████████| 112kB 13.2MB/s ta 0:00:01\n",
      "\u001b[?25hCollecting azure-storage-common>=1.1.0 (from azureml-core==0.1.74.*->azureml-sdk[automl,notebooks])\n",
      "  Downloading https://files.pythonhosted.org/packages/73/84/025ac436a6a1d5516d1a67887d7122b3b2ea04ba6b2d2c46fe949accb62b/azure_storage_common-1.4.0-py2.py3-none-any.whl (46kB)\n",
      "\u001b[K    100% |████████████████████████████████| 51kB 11.3MB/s ta 0:00:01\n",
      "\u001b[?25hCollecting pytz (from azureml-core==0.1.74.*->azureml-sdk[automl,notebooks])\n",
      "  Downloading https://files.pythonhosted.org/packages/f8/0e/2365ddc010afb3d79147f1dd544e5ee24bf4ece58ab99b16fbb465ce6dc0/pytz-2018.7-py2.py3-none-any.whl (506kB)\n",
      "\u001b[K    100% |████████████████████████████████| 512kB 2.4MB/s ta 0:00:011\n",
      "\u001b[?25hCollecting azureml-pipeline-steps==0.1.74.* (from azureml-pipeline==0.1.74.*->azureml-sdk[automl,notebooks])\n",
      "  Downloading https://files.pythonhosted.org/packages/7f/d9/610f39e47627e39920fda2e5e0428be3f5c7c334efaaf9fa6f1b46709d22/azureml_pipeline_steps-0.1.74-py3-none-any.whl\n",
      "Collecting azureml-pipeline-core==0.1.74.* (from azureml-pipeline==0.1.74.*->azureml-sdk[automl,notebooks])\n",
      "  Downloading https://files.pythonhosted.org/packages/5a/9c/49a81ef1e0c4cdf8e0913f6414ddaa8c49f40b27233340ac637ddf82673d/azureml_pipeline_core-0.1.74-py3-none-any.whl (109kB)\n",
      "\u001b[K    100% |████████████████████████████████| 112kB 13.6MB/s ta 0:00:01\n",
      "\u001b[?25hCollecting lightgbm<=2.2.1,>=2.0.11 (from azureml-train-automl==0.1.74.*; extra == \"automl\"->azureml-sdk[automl,notebooks])\n",
      "  Downloading https://files.pythonhosted.org/packages/78/7e/bc87e7951cfaa998cffaf39e6c721f5bd04efb2e139486206356edb289a5/lightgbm-2.2.1-py2.py3-none-manylinux1_x86_64.whl (1.1MB)\n",
      "\u001b[K    100% |████████████████████████████████| 1.1MB 1.3MB/s eta 0:00:01\n",
      "\u001b[?25hCollecting resource>=0.1.8 (from azureml-train-automl==0.1.74.*; extra == \"automl\"->azureml-sdk[automl,notebooks])\n",
      "  Downloading https://files.pythonhosted.org/packages/34/ad/9cd037c01c075f9a273c23557f8e71195d773d59d3881bbb26011d396c8b/Resource-0.2.1-py2.py3-none-any.whl\n",
      "Collecting azureml-dataprep<0.4.0,~=0.3rc (from azureml-train-automl==0.1.74.*; extra == \"automl\"->azureml-sdk[automl,notebooks])\n",
      "  Downloading https://files.pythonhosted.org/packages/7f/b4/4ce35bc1320e13aad61b9a15ff29fb4c6c472d0399e3508c15c23b4b3172/azureml_dataprep-0.3.0-py3-none-any.whl (14.7MB)\n",
      "\u001b[K    100% |████████████████████████████████| 14.7MB 118kB/s eta 0:00:01\n",
      "\u001b[?25hRequirement already up-to-date: scipy<=1.1.0,>=1.0.0 in /home/chenhui/.local/lib/python3.5/site-packages (from azureml-train-automl==0.1.74.*; extra == \"automl\"->azureml-sdk[automl,notebooks])\n",
      "Requirement already up-to-date: pandas<=0.23.4,>=0.20.1 in /usr/local/lib/python3.5/dist-packages (from azureml-train-automl==0.1.74.*; extra == \"automl\"->azureml-sdk[automl,notebooks])\n",
      "Collecting wheel==0.30.0 (from azureml-train-automl==0.1.74.*; extra == \"automl\"->azureml-sdk[automl,notebooks])\n",
      "  Downloading https://files.pythonhosted.org/packages/0c/80/16a85b47702a1f47a63c104c91abdd0a6704ee8ae3b4ce4afc49bc39f9d9/wheel-0.30.0-py2.py3-none-any.whl (49kB)\n",
      "\u001b[K    100% |████████████████████████████████| 51kB 11.7MB/s ta 0:00:01\n",
      "\u001b[?25hCollecting scikit-learn<=0.19.1,>=0.18.0 (from azureml-train-automl==0.1.74.*; extra == \"automl\"->azureml-sdk[automl,notebooks])\n",
      "  Downloading https://files.pythonhosted.org/packages/bf/53/8c9c950a3cfaec16069df196c0b76ab05b3d1f0527f6bb97a30f4dda5240/scikit_learn-0.19.1-cp35-cp35m-manylinux1_x86_64.whl (12.2MB)\n",
      "\u001b[K    100% |████████████████████████████████| 12.2MB 140kB/s eta 0:00:01\n",
      "\u001b[?25hCollecting numpy==1.14.5 (from azureml-train-automl==0.1.74.*; extra == \"automl\"->azureml-sdk[automl,notebooks])\n",
      "  Downloading https://files.pythonhosted.org/packages/43/17/cd9fa14492dbef2aaf22622db79dba087c10f125473e730cda2f2019c40b/numpy-1.14.5-cp35-cp35m-manylinux1_x86_64.whl (12.1MB)\n",
      "\u001b[K    100% |████████████████████████████████| 12.1MB 141kB/s eta 0:00:01\n",
      "\u001b[?25hCollecting tensorflow==1.10.0 (from azureml-train-automl==0.1.74.*; extra == \"automl\"->azureml-sdk[automl,notebooks])\n",
      "  Downloading https://files.pythonhosted.org/packages/32/bb/46e6ceeae1a0aa8a0e21ec08b2d8456de19d733807a50ef4302fcb509ed9/tensorflow-1.10.0-cp35-cp35m-manylinux1_x86_64.whl (58.4MB)\n",
      "\u001b[K    100% |████████████████████████████████| 58.4MB 29kB/s  eta 0:00:01\n",
      "\u001b[?25hCollecting sklearn-pandas<=1.7.0,>=1.4.0 (from azureml-train-automl==0.1.74.*; extra == \"automl\"->azureml-sdk[automl,notebooks])\n",
      "  Downloading https://files.pythonhosted.org/packages/7e/9c/c94f46b40b86d2c77c46c4c1b858fc66c117b4390665eca28f2e0812db45/sklearn_pandas-1.7.0-py2.py3-none-any.whl\n",
      "Collecting azureml-telemetry==0.1.74.* (from azureml-train-automl==0.1.74.*; extra == \"automl\"->azureml-sdk[automl,notebooks])\n",
      "  Downloading https://files.pythonhosted.org/packages/f7/b4/35b593f672476842586c5d7980bcf257d970882f6504497faf281f7aebad/azureml_telemetry-0.1.74-py3-none-any.whl\n",
      "Requirement already up-to-date: ipywidgets>=7.0.0 in /usr/local/lib/python3.5/dist-packages (from azureml-train-widgets==0.1.74.*; extra == \"notebooks\"->azureml-sdk[automl,notebooks])\n",
      "Collecting azureml-train-restclients-hyperdrive==0.1.74.* (from azureml-train-core==0.1.74.*->azureml-train==0.1.74.*->azureml-sdk[automl,notebooks])\n",
      "  Downloading https://files.pythonhosted.org/packages/07/fe/64e7590f4528f61469700559e72936e4c7f3ccb2dbbc8327ff9ab154ede0/azureml_train_restclients_hyperdrive-0.1.74-py3-none-any.whl\n",
      "Collecting azure-nspkg>=2.0.0 (from azure-storage-nspkg>=3.0.0->azureml-core==0.1.74.*->azureml-sdk[automl,notebooks])\n",
      "  Downloading https://files.pythonhosted.org/packages/c4/0c/c562be95a9a2ed52454f598571cf300b1114d0db2aa27f5b8ed3bb9cd0c0/azure_nspkg-3.0.2-py3-none-any.whl\n",
      "Collecting PyOpenSSL (from ndg-httpsclient->azureml-core==0.1.74.*->azureml-sdk[automl,notebooks])\n",
      "  Downloading https://files.pythonhosted.org/packages/96/af/9d29e6bd40823061aea2e0574ccb2fcf72bfd6130ce53d32773ec375458c/pyOpenSSL-18.0.0-py2.py3-none-any.whl (53kB)\n",
      "\u001b[K    100% |████████████████████████████████| 61kB 16.1MB/s ta 0:00:01\n"
     ]
    },
    {
     "name": "stdout",
     "output_type": "stream",
     "text": [
      "\u001b[?25hCollecting pyasn1>=0.1.1 (from ndg-httpsclient->azureml-core==0.1.74.*->azureml-sdk[automl,notebooks])\n",
      "  Downloading https://files.pythonhosted.org/packages/d1/a1/7790cc85db38daa874f6a2e6308131b9953feb1367f2ae2d1123bb93a9f5/pyasn1-0.4.4-py2.py3-none-any.whl (72kB)\n",
      "\u001b[K    100% |████████████████████████████████| 81kB 14.2MB/s ta 0:00:01\n",
      "\u001b[?25hCollecting azure-cli-command-modules-nspkg>=2.0.0 (from azure-cli-profile>=2.0.26->azureml-core==0.1.74.*->azureml-sdk[automl,notebooks])\n",
      "  Downloading https://files.pythonhosted.org/packages/e6/c9/cdeeeabc550848e2a07caa66cba28aa057d23b6feaa824ceafd32c3f2226/azure_cli_command_modules_nspkg-2.0.2-py2.py3-none-any.whl\n",
      "Collecting requests-oauthlib>=0.5.0 (from msrest>=0.5.1->azureml-core==0.1.74.*->azureml-sdk[automl,notebooks])\n",
      "  Downloading https://files.pythonhosted.org/packages/94/e7/c250d122992e1561690d9c0f7856dadb79d61fd4bdd0e598087dce607f6c/requests_oauthlib-1.0.0-py2.py3-none-any.whl\n",
      "Collecting certifi>=2017.4.17 (from msrest>=0.5.1->azureml-core==0.1.74.*->azureml-sdk[automl,notebooks])\n",
      "  Downloading https://files.pythonhosted.org/packages/56/9d/1d02dd80bc4cd955f98980f28c5ee2200e1209292d5f9e9cc8d030d18655/certifi-2018.10.15-py2.py3-none-any.whl (146kB)\n",
      "\u001b[K    100% |████████████████████████████████| 153kB 10.5MB/s ta 0:00:01\n",
      "\u001b[?25hCollecting isodate>=0.6.0 (from msrest>=0.5.1->azureml-core==0.1.74.*->azureml-sdk[automl,notebooks])\n",
      "  Downloading https://files.pythonhosted.org/packages/9b/9f/b36f7774ff5ea8e428fdcfc4bb332c39ee5b9362ddd3d40d9516a55221b2/isodate-0.6.0-py2.py3-none-any.whl (45kB)\n",
      "\u001b[K    100% |████████████████████████████████| 51kB 14.4MB/s ta 0:00:01\n",
      "\u001b[?25hCollecting docker-pycreds>=0.3.0 (from docker->azureml-core==0.1.74.*->azureml-sdk[automl,notebooks])\n",
      "  Downloading https://files.pythonhosted.org/packages/ea/bf/7e70aeebc40407fbdb96fa9f79fc8e4722ea889a99378303e3bcc73f4ab5/docker_pycreds-0.3.0-py2.py3-none-any.whl\n",
      "Collecting websocket-client>=0.32.0 (from docker->azureml-core==0.1.74.*->azureml-sdk[automl,notebooks])\n",
      "  Downloading https://files.pythonhosted.org/packages/26/2d/f749a5c82f6192d77ed061a38e02001afcba55fe8477336d26a950ab17ce/websocket_client-0.54.0-py2.py3-none-any.whl (200kB)\n",
      "\u001b[K    100% |████████████████████████████████| 204kB 5.2MB/s eta 0:00:01\n",
      "\u001b[?25hCollecting backports.weakref (from backports.tempfile->azureml-core==0.1.74.*->azureml-sdk[automl,notebooks])\n",
      "  Downloading https://files.pythonhosted.org/packages/88/ec/f598b633c3d5ffe267aaada57d961c94fdfa183c5c3ebda2b6d151943db6/backports.weakref-1.0.post1-py2.py3-none-any.whl\n",
      "Collecting idna<2.8,>=2.5 (from requests>=2.19.1->azureml-core==0.1.74.*->azureml-sdk[automl,notebooks])\n",
      "  Downloading https://files.pythonhosted.org/packages/4b/2a/0276479a4b3caeb8a8c1af2f8e4355746a97fab05a372e4a2c6a6b876165/idna-2.7-py2.py3-none-any.whl (58kB)\n",
      "\u001b[K    100% |████████████████████████████████| 61kB 13.5MB/s ta 0:00:01\n",
      "\u001b[?25hCollecting chardet<3.1.0,>=3.0.2 (from requests>=2.19.1->azureml-core==0.1.74.*->azureml-sdk[automl,notebooks])\n",
      "  Downloading https://files.pythonhosted.org/packages/bc/a9/01ffebfb562e4274b6487b4bb1ddec7ca55ec7510b22e4c51f14098443b8/chardet-3.0.4-py2.py3-none-any.whl (133kB)\n",
      "\u001b[K    100% |████████████████████████████████| 143kB 11.3MB/s ta 0:00:01\n",
      "\u001b[?25hCollecting azure-mgmt-nspkg>=2.0.0 (from azure-mgmt-resource>=1.2.1->azureml-core==0.1.74.*->azureml-sdk[automl,notebooks])\n",
      "  Downloading https://files.pythonhosted.org/packages/b3/c2/af4b47845f27dc7d206ed4908b9e580f8bc94a4b2f3956a0d87c40719d90/azure_mgmt_nspkg-3.0.2-py3-none-any.whl\n",
      "Collecting adal<2.0.0,>=0.6.0 (from msrestazure>=0.4.33->azureml-core==0.1.74.*->azureml-sdk[automl,notebooks])\n",
      "  Downloading https://files.pythonhosted.org/packages/2d/2f/14882b8dae0977e85577abde3065c141fb94dbb242adfb80e21797e4f7c9/adal-1.2.0-py2.py3-none-any.whl (52kB)\n",
      "\u001b[K    100% |████████████████████████████████| 61kB 13.6MB/s ta 0:00:01\n",
      "\u001b[?25hCollecting argcomplete>=1.8.0 (from azure-cli-core>=2.0.38->azureml-core==0.1.74.*->azureml-sdk[automl,notebooks])\n",
      "  Downloading https://files.pythonhosted.org/packages/31/88/ba8d8684a8a27749250c66ff7c2b408fdbc29b50da61200338ff9b2607bf/argcomplete-1.9.4-py2.py3-none-any.whl\n",
      "Collecting azure-cli-telemetry (from azure-cli-core>=2.0.38->azureml-core==0.1.74.*->azureml-sdk[automl,notebooks])\n",
      "  Downloading https://files.pythonhosted.org/packages/71/4c/da5ebe9300ecdc850031372f81229383c46a70e83dee8e77f58aa6fd0546/azure_cli_telemetry-1.0.0-py2.py3-none-any.whl\n",
      "Collecting pip (from azure-cli-core>=2.0.38->azureml-core==0.1.74.*->azureml-sdk[automl,notebooks])\n",
      "  Downloading https://files.pythonhosted.org/packages/c2/d7/90f34cb0d83a6c5631cf71dfe64cc1054598c843a92b400e55675cc2ac37/pip-18.1-py2.py3-none-any.whl (1.3MB)\n",
      "\u001b[K    100% |████████████████████████████████| 1.3MB 1.3MB/s eta 0:00:01\n",
      "\u001b[?25hCollecting jmespath (from azure-cli-core>=2.0.38->azureml-core==0.1.74.*->azureml-sdk[automl,notebooks])\n",
      "  Downloading https://files.pythonhosted.org/packages/b7/31/05c8d001f7f87f0f07289a5fc0fc3832e9a57f2dbd4d3b0fee70e0d51365/jmespath-0.9.3-py2.py3-none-any.whl\n",
      "Collecting antlr4-python3-runtime; python_version >= \"3.0\" (from azure-cli-core>=2.0.38->azureml-core==0.1.74.*->azureml-sdk[automl,notebooks])\n",
      "  Downloading https://files.pythonhosted.org/packages/3e/96/aba01b2948ec67f237cd387c022820835ae0d8db5cab4bd404b351660b5e/antlr4-python3-runtime-4.7.1.tar.gz (111kB)\n",
      "\u001b[K    100% |████████████████████████████████| 112kB 12.4MB/s ta 0:00:01\n",
      "\u001b[?25hCollecting colorama>=0.3.9 (from azure-cli-core>=2.0.38->azureml-core==0.1.74.*->azureml-sdk[automl,notebooks])\n",
      "  Downloading https://files.pythonhosted.org/packages/0a/93/6e8289231675d561d476d656c2ee3a868c1cca207e16c118d4503b25e2bf/colorama-0.4.0-py2.py3-none-any.whl\n",
      "Collecting tabulate<=0.8.2,>=0.7.7 (from azure-cli-core>=2.0.38->azureml-core==0.1.74.*->azureml-sdk[automl,notebooks])\n",
      "  Downloading https://files.pythonhosted.org/packages/12/c2/11d6845db5edf1295bc08b2f488cf5937806586afe42936c3f34c097ebdc/tabulate-0.8.2.tar.gz (45kB)\n",
      "\u001b[K    100% |████████████████████████████████| 51kB 12.2MB/s ta 0:00:01\n",
      "\u001b[?25hCollecting azure-cli-nspkg>=2.0.0 (from azure-cli-core>=2.0.38->azureml-core==0.1.74.*->azureml-sdk[automl,notebooks])\n",
      "  Downloading https://files.pythonhosted.org/packages/a7/85/601ef6484bf7a722daa76a4383c4ccfd4980b74ed6c2895392f53ed210d5/azure_cli_nspkg-3.0.3-py2.py3-none-any.whl\n",
      "Collecting humanfriendly>=4.7 (from azure-cli-core>=2.0.38->azureml-core==0.1.74.*->azureml-sdk[automl,notebooks])\n",
      "  Downloading https://files.pythonhosted.org/packages/79/1e/13d96248e3fcaa7777b61fa889feab44865c85e524bbd667acfa0d8b66e3/humanfriendly-4.17-py2.py3-none-any.whl (72kB)\n",
      "\u001b[K    100% |████████████████████████████████| 81kB 14.7MB/s ta 0:00:01\n",
      "\u001b[?25hCollecting paramiko>=2.0.8 (from azure-cli-core>=2.0.38->azureml-core==0.1.74.*->azureml-sdk[automl,notebooks])\n",
      "  Downloading https://files.pythonhosted.org/packages/cf/ae/94e70d49044ccc234bfdba20114fa947d7ba6eb68a2e452d89b920e62227/paramiko-2.4.2-py2.py3-none-any.whl (193kB)\n",
      "\u001b[K    100% |████████████████████████████████| 194kB 4.3MB/s eta 0:00:01\n",
      "\u001b[?25hRequirement already up-to-date: pyyaml~=3.13 in /home/chenhui/.local/lib/python3.5/site-packages (from azure-cli-core>=2.0.38->azureml-core==0.1.74.*->azureml-sdk[automl,notebooks])\n",
      "Collecting knack==0.4.5 (from azure-cli-core>=2.0.38->azureml-core==0.1.74.*->azureml-sdk[automl,notebooks])\n",
      "  Downloading https://files.pythonhosted.org/packages/02/89/1ea05831b95d6bdc8880acdd0304a915156eb5f94aeab0fd36649a940c45/knack-0.4.5-py2.py3-none-any.whl (49kB)\n",
      "\u001b[K    100% |████████████████████████████████| 51kB 7.9MB/s eta 0:00:01\n",
      "\u001b[?25hRequirement already up-to-date: pygments in /usr/local/lib/python3.5/dist-packages (from azure-cli-core>=2.0.38->azureml-core==0.1.74.*->azureml-sdk[automl,notebooks])\n",
      "Collecting asn1crypto>=0.21.0 (from cryptography!=1.9,!=2.0.*,!=2.1.*,!=2.2.*->azureml-core==0.1.74.*->azureml-sdk[automl,notebooks])\n",
      "  Downloading https://files.pythonhosted.org/packages/ea/cd/35485615f45f30a510576f1a56d1e0a7ad7bd8ab5ed7cdc600ef7cd06222/asn1crypto-0.24.0-py2.py3-none-any.whl (101kB)\n",
      "\u001b[K    100% |████████████████████████████████| 102kB 13.2MB/s a 0:00:01\n",
      "\u001b[?25hCollecting cffi!=1.11.3,>=1.7 (from cryptography!=1.9,!=2.0.*,!=2.1.*,!=2.2.*->azureml-core==0.1.74.*->azureml-sdk[automl,notebooks])\n"
     ]
    },
    {
     "name": "stdout",
     "output_type": "stream",
     "text": [
      "  Downloading https://files.pythonhosted.org/packages/59/cc/0e1635b4951021ef35f5c92b32c865ae605fac2a19d724fb6ff99d745c81/cffi-1.11.5-cp35-cp35m-manylinux1_x86_64.whl (420kB)\n",
      "\u001b[K    100% |████████████████████████████████| 430kB 2.3MB/s eta 0:00:01\n",
      "\u001b[?25hCollecting JsonForm>=0.0.2 (from resource>=0.1.8->azureml-train-automl==0.1.74.*; extra == \"automl\"->azureml-sdk[automl,notebooks])\n",
      "  Downloading https://files.pythonhosted.org/packages/4f/b7/b9491ba4b709d0616fab15a89f8efe4d3a7924652e1fdd4f15303e9ecdf0/JsonForm-0.0.2.tar.gz\n",
      "Collecting JsonSir>=0.0.2 (from resource>=0.1.8->azureml-train-automl==0.1.74.*; extra == \"automl\"->azureml-sdk[automl,notebooks])\n",
      "  Downloading https://files.pythonhosted.org/packages/aa/bf/5c00c1dafaa3ca2c32e7641d9c2c6f9d6d76e127bde00eb600333a60c5bc/JsonSir-0.0.2.tar.gz\n",
      "Collecting python-easyconfig>=0.1.0 (from resource>=0.1.8->azureml-train-automl==0.1.74.*; extra == \"automl\"->azureml-sdk[automl,notebooks])\n",
      "  Downloading https://files.pythonhosted.org/packages/b1/86/1138081cca360a02066eedaf301d0f358c35e0e0d67572acf9d6354edca9/Python_EasyConfig-0.1.7-py2.py3-none-any.whl\n",
      "Collecting dotnetcore2==2.1.0 (from azureml-dataprep<0.4.0,~=0.3rc->azureml-train-automl==0.1.74.*; extra == \"automl\"->azureml-sdk[automl,notebooks])\n",
      "  Downloading https://files.pythonhosted.org/packages/21/2f/eb05a02b10d21966959c32def6ac43cfd0f5f8f6f7441b2a1b6b1ce530db/dotnetcore2-2.1.0-py3-none-manylinux1_x86_64.whl (28.7MB)\n",
      "\u001b[K    100% |████████████████████████████████| 28.7MB 57kB/s  eta 0:00:01\n",
      "\u001b[?25hCollecting azureml-dataprep-native<11.0.0,>=10.4.0 (from azureml-dataprep<0.4.0,~=0.3rc->azureml-train-automl==0.1.74.*; extra == \"automl\"->azureml-sdk[automl,notebooks])\n",
      "  Downloading https://files.pythonhosted.org/packages/12/1c/8c7f8347dd68ad82bb7bfed6e2e4c49307d170305a22daa9b669ba98e5c3/azureml_dataprep_native-10.4.0-cp35-cp35m-manylinux1_x86_64.whl (1.3MB)\n",
      "\u001b[K    100% |████████████████████████████████| 1.3MB 1.2MB/s eta 0:00:01\n",
      "\u001b[?25hRequirement already up-to-date: absl-py>=0.1.6 in /usr/local/lib/python3.5/dist-packages (from tensorflow==1.10.0->azureml-train-automl==0.1.74.*; extra == \"automl\"->azureml-sdk[automl,notebooks])\n",
      "Requirement already up-to-date: setuptools<=39.1.0 in /usr/local/lib/python3.5/dist-packages (from tensorflow==1.10.0->azureml-train-automl==0.1.74.*; extra == \"automl\"->azureml-sdk[automl,notebooks])\n",
      "Collecting tensorboard<1.11.0,>=1.10.0 (from tensorflow==1.10.0->azureml-train-automl==0.1.74.*; extra == \"automl\"->azureml-sdk[automl,notebooks])\n",
      "  Downloading https://files.pythonhosted.org/packages/c6/17/ecd918a004f297955c30b4fffbea100b1606c225dbf0443264012773c3ff/tensorboard-1.10.0-py3-none-any.whl (3.3MB)\n",
      "\u001b[K    100% |████████████████████████████████| 3.3MB 551kB/s eta 0:00:01\n",
      "\u001b[?25hCollecting grpcio>=1.8.6 (from tensorflow==1.10.0->azureml-train-automl==0.1.74.*; extra == \"automl\"->azureml-sdk[automl,notebooks])\n",
      "  Downloading https://files.pythonhosted.org/packages/90/b4/ce6b50cd30a07a13143eec055c9737573916327217fbe243e38856e2ab95/grpcio-1.16.1-cp35-cp35m-manylinux1_x86_64.whl (9.7MB)\n",
      "\u001b[K    100% |████████████████████████████████| 9.7MB 179kB/s eta 0:00:01\n",
      "\u001b[?25hRequirement already up-to-date: protobuf>=3.6.0 in /usr/local/lib/python3.5/dist-packages (from tensorflow==1.10.0->azureml-train-automl==0.1.74.*; extra == \"automl\"->azureml-sdk[automl,notebooks])\n",
      "Requirement already up-to-date: gast>=0.2.0 in /usr/local/lib/python3.5/dist-packages (from tensorflow==1.10.0->azureml-train-automl==0.1.74.*; extra == \"automl\"->azureml-sdk[automl,notebooks])\n",
      "Requirement already up-to-date: termcolor>=1.1.0 in /usr/local/lib/python3.5/dist-packages (from tensorflow==1.10.0->azureml-train-automl==0.1.74.*; extra == \"automl\"->azureml-sdk[automl,notebooks])\n",
      "Requirement already up-to-date: astor>=0.6.0 in /usr/local/lib/python3.5/dist-packages (from tensorflow==1.10.0->azureml-train-automl==0.1.74.*; extra == \"automl\"->azureml-sdk[automl,notebooks])\n",
      "Collecting applicationinsights (from azureml-telemetry==0.1.74.*->azureml-train-automl==0.1.74.*; extra == \"automl\"->azureml-sdk[automl,notebooks])\n",
      "  Downloading https://files.pythonhosted.org/packages/e3/c8/7848a0dd85158930b859eb8be1e38fc76a91f0a040d491723ebb356d7358/applicationinsights-0.11.7-py2.py3-none-any.whl (56kB)\n",
      "\u001b[K    100% |████████████████████████████████| 61kB 14.8MB/s ta 0:00:01\n",
      "\u001b[?25hRequirement already up-to-date: ipykernel>=4.5.1 in /usr/local/lib/python3.5/dist-packages (from ipywidgets>=7.0.0->azureml-train-widgets==0.1.74.*; extra == \"notebooks\"->azureml-sdk[automl,notebooks])\n",
      "Requirement already up-to-date: ipython>=4.0.0; python_version >= \"3.3\" in /usr/local/lib/python3.5/dist-packages (from ipywidgets>=7.0.0->azureml-train-widgets==0.1.74.*; extra == \"notebooks\"->azureml-sdk[automl,notebooks])\n",
      "Requirement already up-to-date: nbformat>=4.2.0 in /usr/local/lib/python3.5/dist-packages (from ipywidgets>=7.0.0->azureml-train-widgets==0.1.74.*; extra == \"notebooks\"->azureml-sdk[automl,notebooks])\n",
      "Requirement already up-to-date: widgetsnbextension~=3.4.0 in /usr/local/lib/python3.5/dist-packages (from ipywidgets>=7.0.0->azureml-train-widgets==0.1.74.*; extra == \"notebooks\"->azureml-sdk[automl,notebooks])\n",
      "Requirement already up-to-date: traitlets>=4.3.1 in /usr/local/lib/python3.5/dist-packages (from ipywidgets>=7.0.0->azureml-train-widgets==0.1.74.*; extra == \"notebooks\"->azureml-sdk[automl,notebooks])\n",
      "Collecting oauthlib>=0.6.2 (from requests-oauthlib>=0.5.0->msrest>=0.5.1->azureml-core==0.1.74.*->azureml-sdk[automl,notebooks])\n",
      "  Downloading https://files.pythonhosted.org/packages/e6/d1/ddd9cfea3e736399b97ded5c2dd62d1322adef4a72d816f1ed1049d6a179/oauthlib-2.1.0-py2.py3-none-any.whl (121kB)\n",
      "\u001b[K    100% |████████████████████████████████| 122kB 11.9MB/s ta 0:00:01\n",
      "\u001b[?25hCollecting portalocker==1.2.1 (from azure-cli-telemetry->azure-cli-core>=2.0.38->azureml-core==0.1.74.*->azureml-sdk[automl,notebooks])\n",
      "  Downloading https://files.pythonhosted.org/packages/57/41/05e79e5516db1cc0c967b3202388cde729f871c871b0a07bf24ff11adfcf/portalocker-1.2.1-py2.py3-none-any.whl\n",
      "Collecting bcrypt>=3.1.3 (from paramiko>=2.0.8->azure-cli-core>=2.0.38->azureml-core==0.1.74.*->azureml-sdk[automl,notebooks])\n",
      "  Downloading https://files.pythonhosted.org/packages/72/8d/57da727cbb4ddf0295b0665a93bd8f46fbbd2a48b76cbb0896ca7d27301f/bcrypt-3.1.4-cp35-cp35m-manylinux1_x86_64.whl (54kB)\n",
      "\u001b[K    100% |████████████████████████████████| 61kB 15.1MB/s ta 0:00:01\n",
      "\u001b[?25hCollecting pynacl>=1.0.1 (from paramiko>=2.0.8->azure-cli-core>=2.0.38->azureml-core==0.1.74.*->azureml-sdk[automl,notebooks])\n",
      "  Downloading https://files.pythonhosted.org/packages/61/ab/2ac6dea8489fa713e2b4c6c5b549cc962dd4a842b5998d9e80cf8440b7cd/PyNaCl-1.3.0.tar.gz (3.4MB)\n",
      "\u001b[K    100% |████████████████████████████████| 3.4MB 514kB/s eta 0:00:01\n",
      "\u001b[?25hCollecting pycparser (from cffi!=1.11.3,>=1.7->cryptography!=1.9,!=2.0.*,!=2.1.*,!=2.2.*->azureml-core==0.1.74.*->azureml-sdk[automl,notebooks])\n",
      "Requirement already up-to-date: jsonschema in /usr/local/lib/python3.5/dist-packages (from JsonForm>=0.0.2->resource>=0.1.8->azureml-train-automl==0.1.74.*; extra == \"automl\"->azureml-sdk[automl,notebooks])\n",
      "Collecting distro==1.2.0 (from dotnetcore2==2.1.0->azureml-dataprep<0.4.0,~=0.3rc->azureml-train-automl==0.1.74.*; extra == \"automl\"->azureml-sdk[automl,notebooks])\n",
      "  Downloading https://files.pythonhosted.org/packages/c1/e4/933159b5f7f9f5b7ae463e76f58da84a30d0943ab3c162c366a9ad95f01e/distro-1.2.0-py2.py3-none-any.whl\n",
      "Requirement already up-to-date: markdown>=2.6.8 in /usr/local/lib/python3.5/dist-packages (from tensorboard<1.11.0,>=1.10.0->tensorflow==1.10.0->azureml-train-automl==0.1.74.*; extra == \"automl\"->azureml-sdk[automl,notebooks])\n",
      "Requirement already up-to-date: werkzeug>=0.11.10 in /usr/local/lib/python3.5/dist-packages (from tensorboard<1.11.0,>=1.10.0->tensorflow==1.10.0->azureml-train-automl==0.1.74.*; extra == \"automl\"->azureml-sdk[automl,notebooks])\n",
      "Requirement already up-to-date: tornado>=4.2 in /usr/local/lib/python3.5/dist-packages (from ipykernel>=4.5.1->ipywidgets>=7.0.0->azureml-train-widgets==0.1.74.*; extra == \"notebooks\"->azureml-sdk[automl,notebooks])\n",
      "Requirement already up-to-date: jupyter-client in /usr/local/lib/python3.5/dist-packages (from ipykernel>=4.5.1->ipywidgets>=7.0.0->azureml-train-widgets==0.1.74.*; extra == \"notebooks\"->azureml-sdk[automl,notebooks])\n"
     ]
    },
    {
     "name": "stdout",
     "output_type": "stream",
     "text": [
      "Requirement already up-to-date: backcall in /usr/local/lib/python3.5/dist-packages (from ipython>=4.0.0; python_version >= \"3.3\"->ipywidgets>=7.0.0->azureml-train-widgets==0.1.74.*; extra == \"notebooks\"->azureml-sdk[automl,notebooks])\n",
      "Collecting prompt-toolkit<2.1.0,>=2.0.0 (from ipython>=4.0.0; python_version >= \"3.3\"->ipywidgets>=7.0.0->azureml-train-widgets==0.1.74.*; extra == \"notebooks\"->azureml-sdk[automl,notebooks])\n",
      "  Downloading https://files.pythonhosted.org/packages/d1/e6/adb3be5576f5d27c6faa33f1e9fea8fe5dbd9351db12148de948507e352c/prompt_toolkit-2.0.7-py3-none-any.whl (338kB)\n",
      "\u001b[K    100% |████████████████████████████████| 348kB 3.7MB/s eta 0:00:01\n",
      "\u001b[?25hRequirement already up-to-date: pexpect; sys_platform != \"win32\" in /usr/local/lib/python3.5/dist-packages (from ipython>=4.0.0; python_version >= \"3.3\"->ipywidgets>=7.0.0->azureml-train-widgets==0.1.74.*; extra == \"notebooks\"->azureml-sdk[automl,notebooks])\n",
      "Requirement already up-to-date: pickleshare in /usr/local/lib/python3.5/dist-packages (from ipython>=4.0.0; python_version >= \"3.3\"->ipywidgets>=7.0.0->azureml-train-widgets==0.1.74.*; extra == \"notebooks\"->azureml-sdk[automl,notebooks])\n",
      "Requirement already up-to-date: decorator in /usr/local/lib/python3.5/dist-packages (from ipython>=4.0.0; python_version >= \"3.3\"->ipywidgets>=7.0.0->azureml-train-widgets==0.1.74.*; extra == \"notebooks\"->azureml-sdk[automl,notebooks])\n",
      "Requirement already up-to-date: jedi>=0.10 in /usr/local/lib/python3.5/dist-packages (from ipython>=4.0.0; python_version >= \"3.3\"->ipywidgets>=7.0.0->azureml-train-widgets==0.1.74.*; extra == \"notebooks\"->azureml-sdk[automl,notebooks])\n",
      "Requirement already up-to-date: jupyter-core in /usr/local/lib/python3.5/dist-packages (from nbformat>=4.2.0->ipywidgets>=7.0.0->azureml-train-widgets==0.1.74.*; extra == \"notebooks\"->azureml-sdk[automl,notebooks])\n",
      "Requirement already up-to-date: ipython-genutils in /usr/local/lib/python3.5/dist-packages (from nbformat>=4.2.0->ipywidgets>=7.0.0->azureml-train-widgets==0.1.74.*; extra == \"notebooks\"->azureml-sdk[automl,notebooks])\n",
      "Collecting notebook>=4.4.1 (from widgetsnbextension~=3.4.0->ipywidgets>=7.0.0->azureml-train-widgets==0.1.74.*; extra == \"notebooks\"->azureml-sdk[automl,notebooks])\n",
      "  Downloading https://files.pythonhosted.org/packages/a2/5d/d1907cd32ac00b5ead56f6e61d9794fa60ef105a22ac5da6e7556011580f/notebook-5.7.2-py2.py3-none-any.whl (9.0MB)\n",
      "\u001b[K    100% |████████████████████████████████| 9.0MB 201kB/s eta 0:00:01\n",
      "\u001b[?25hRequirement already up-to-date: pyzmq>=13 in /usr/local/lib/python3.5/dist-packages (from jupyter-client->ipykernel>=4.5.1->ipywidgets>=7.0.0->azureml-train-widgets==0.1.74.*; extra == \"notebooks\"->azureml-sdk[automl,notebooks])\n",
      "Requirement already up-to-date: wcwidth in /usr/local/lib/python3.5/dist-packages (from prompt-toolkit<2.1.0,>=2.0.0->ipython>=4.0.0; python_version >= \"3.3\"->ipywidgets>=7.0.0->azureml-train-widgets==0.1.74.*; extra == \"notebooks\"->azureml-sdk[automl,notebooks])\n",
      "Requirement already up-to-date: ptyprocess>=0.5 in /usr/local/lib/python3.5/dist-packages (from pexpect; sys_platform != \"win32\"->ipython>=4.0.0; python_version >= \"3.3\"->ipywidgets>=7.0.0->azureml-train-widgets==0.1.74.*; extra == \"notebooks\"->azureml-sdk[automl,notebooks])\n",
      "Requirement already up-to-date: parso>=0.3.0 in /usr/local/lib/python3.5/dist-packages (from jedi>=0.10->ipython>=4.0.0; python_version >= \"3.3\"->ipywidgets>=7.0.0->azureml-train-widgets==0.1.74.*; extra == \"notebooks\"->azureml-sdk[automl,notebooks])\n",
      "Requirement already up-to-date: nbconvert in /usr/local/lib/python3.5/dist-packages (from notebook>=4.4.1->widgetsnbextension~=3.4.0->ipywidgets>=7.0.0->azureml-train-widgets==0.1.74.*; extra == \"notebooks\"->azureml-sdk[automl,notebooks])\n",
      "Requirement already up-to-date: prometheus-client in /usr/local/lib/python3.5/dist-packages (from notebook>=4.4.1->widgetsnbextension~=3.4.0->ipywidgets>=7.0.0->azureml-train-widgets==0.1.74.*; extra == \"notebooks\"->azureml-sdk[automl,notebooks])\n",
      "Requirement already up-to-date: Send2Trash in /usr/local/lib/python3.5/dist-packages (from notebook>=4.4.1->widgetsnbextension~=3.4.0->ipywidgets>=7.0.0->azureml-train-widgets==0.1.74.*; extra == \"notebooks\"->azureml-sdk[automl,notebooks])\n",
      "Collecting jinja2 (from notebook>=4.4.1->widgetsnbextension~=3.4.0->ipywidgets>=7.0.0->azureml-train-widgets==0.1.74.*; extra == \"notebooks\"->azureml-sdk[automl,notebooks])\n",
      "  Downloading https://files.pythonhosted.org/packages/7f/ff/ae64bacdfc95f27a016a7bed8e8686763ba4d277a78ca76f32659220a731/Jinja2-2.10-py2.py3-none-any.whl (126kB)\n",
      "\u001b[K    100% |████████████████████████████████| 133kB 11.4MB/s ta 0:00:01\n",
      "\u001b[?25hRequirement already up-to-date: terminado>=0.8.1 in /usr/local/lib/python3.5/dist-packages (from notebook>=4.4.1->widgetsnbextension~=3.4.0->ipywidgets>=7.0.0->azureml-train-widgets==0.1.74.*; extra == \"notebooks\"->azureml-sdk[automl,notebooks])\n",
      "Requirement already up-to-date: bleach in /usr/local/lib/python3.5/dist-packages (from nbconvert->notebook>=4.4.1->widgetsnbextension~=3.4.0->ipywidgets>=7.0.0->azureml-train-widgets==0.1.74.*; extra == \"notebooks\"->azureml-sdk[automl,notebooks])\n",
      "Requirement already up-to-date: testpath in /usr/local/lib/python3.5/dist-packages (from nbconvert->notebook>=4.4.1->widgetsnbextension~=3.4.0->ipywidgets>=7.0.0->azureml-train-widgets==0.1.74.*; extra == \"notebooks\"->azureml-sdk[automl,notebooks])\n",
      "Requirement already up-to-date: mistune>=0.8.1 in /usr/local/lib/python3.5/dist-packages (from nbconvert->notebook>=4.4.1->widgetsnbextension~=3.4.0->ipywidgets>=7.0.0->azureml-train-widgets==0.1.74.*; extra == \"notebooks\"->azureml-sdk[automl,notebooks])\n",
      "Requirement already up-to-date: entrypoints>=0.2.2 in /usr/local/lib/python3.5/dist-packages (from nbconvert->notebook>=4.4.1->widgetsnbextension~=3.4.0->ipywidgets>=7.0.0->azureml-train-widgets==0.1.74.*; extra == \"notebooks\"->azureml-sdk[automl,notebooks])\n",
      "Requirement already up-to-date: pandocfilters>=1.4.1 in /usr/local/lib/python3.5/dist-packages (from nbconvert->notebook>=4.4.1->widgetsnbextension~=3.4.0->ipywidgets>=7.0.0->azureml-train-widgets==0.1.74.*; extra == \"notebooks\"->azureml-sdk[automl,notebooks])\n",
      "Requirement already up-to-date: defusedxml in /usr/local/lib/python3.5/dist-packages (from nbconvert->notebook>=4.4.1->widgetsnbextension~=3.4.0->ipywidgets>=7.0.0->azureml-train-widgets==0.1.74.*; extra == \"notebooks\"->azureml-sdk[automl,notebooks])\n",
      "Collecting MarkupSafe>=0.23 (from jinja2->notebook>=4.4.1->widgetsnbextension~=3.4.0->ipywidgets>=7.0.0->azureml-train-widgets==0.1.74.*; extra == \"notebooks\"->azureml-sdk[automl,notebooks])\n",
      "  Downloading https://files.pythonhosted.org/packages/3e/a5/e188980ef1d0a4e0788b5143ea933f9afd760df38fec4c0b72b5ae3060c8/MarkupSafe-1.1.0-cp35-cp35m-manylinux1_x86_64.whl\n",
      "Requirement already up-to-date: webencodings in /usr/local/lib/python3.5/dist-packages (from bleach->nbconvert->notebook>=4.4.1->widgetsnbextension~=3.4.0->ipywidgets>=7.0.0->azureml-train-widgets==0.1.74.*; extra == \"notebooks\"->azureml-sdk[automl,notebooks])\n",
      "Installing collected packages: python-dateutil, urllib3, certifi, azureml-train-restclients-hyperdrive, oauthlib, idna, chardet, requests, requests-oauthlib, isodate, msrest, asn1crypto, pycparser, cffi, cryptography, PyJWT, adal, msrestazure, azure-common, azure-mgmt-storage, ruamel.yaml, azure-mgmt-authorization, azure-nspkg, azure-storage-nspkg, azure-mgmt-containerregistry, PyOpenSSL, pyasn1, ndg-httpsclient, contextlib2, argcomplete, azure-cli-nspkg, portalocker, applicationinsights, azure-cli-telemetry, pip, jmespath, antlr4-python3-runtime, colorama, tabulate, azure-mgmt-nspkg, azure-mgmt-resource, humanfriendly, bcrypt, pynacl, paramiko, knack, wheel, azure-cli-core, azure-cli-command-modules-nspkg, azure-cli-profile, azure-storage-common, azure-storage-blob, docker-pycreds, websocket-client, docker, pathspec, SecretStorage, backports.weakref, backports.tempfile, jsonpickle, azure-mgmt-keyvault, azure-graphrbac, pytz, azureml-core, azureml-telemetry, azureml-train-core, azureml-train, azureml-pipeline-core, azureml-pipeline-steps, azureml-pipeline, numpy, scikit-learn, lightgbm, JsonForm, JsonSir, python-easyconfig, resource, distro, dotnetcore2, azureml-dataprep-native, azureml-dataprep, tensorboard, grpcio, tensorflow, sklearn-pandas, azureml-train-automl, azureml-train-widgets, azureml-sdk, prompt-toolkit, MarkupSafe, jinja2, notebook\n",
      "  Found existing installation: python-dateutil 2.7.3\n"
     ]
    },
    {
     "name": "stdout",
     "output_type": "stream",
     "text": [
      "    Uninstalling python-dateutil-2.7.3:\n",
      "      Successfully uninstalled python-dateutil-2.7.3\n",
      "  Found existing installation: urllib3 1.13.1\n",
      "    Not uninstalling urllib3 at /usr/lib/python3/dist-packages, outside environment /usr\n",
      "  Found existing installation: oauthlib 1.0.3\n",
      "    Not uninstalling oauthlib at /usr/lib/python3/dist-packages, outside environment /usr\n",
      "  Found existing installation: idna 2.0\n",
      "    Not uninstalling idna at /usr/lib/python3/dist-packages, outside environment /usr\n",
      "  Found existing installation: chardet 2.3.0\n",
      "    Not uninstalling chardet at /usr/lib/python3/dist-packages, outside environment /usr\n",
      "  Found existing installation: requests 2.9.1\n",
      "    Not uninstalling requests at /usr/lib/python3/dist-packages, outside environment /usr\n",
      "  Found existing installation: cryptography 1.2.3\n",
      "    Not uninstalling cryptography at /usr/lib/python3/dist-packages, outside environment /usr\n",
      "  Running setup.py install for cryptography ... \u001b[?25ldone\n",
      "\u001b[?25h  Found existing installation: PyJWT 1.3.0\n",
      "    Not uninstalling pyjwt at /usr/lib/python3/dist-packages, outside environment /usr\n",
      "  Found existing installation: pyasn1 0.1.9\n",
      "    Not uninstalling pyasn1 at /usr/lib/python3/dist-packages, outside environment /usr\n",
      "  Found existing installation: pip 8.1.1\n",
      "    Not uninstalling pip at /usr/lib/python3/dist-packages, outside environment /usr\n",
      "  Running setup.py install for antlr4-python3-runtime ... \u001b[?25ldone\n",
      "\u001b[?25h  Running setup.py install for tabulate ... \u001b[?25ldone\n",
      "\u001b[?25h  Running setup.py install for pynacl ... \u001b[?25ldone\n",
      "\u001b[?25h  Found existing installation: wheel 0.32.2\n",
      "    Uninstalling wheel-0.32.2:\n",
      "      Successfully uninstalled wheel-0.32.2\n",
      "  Running setup.py install for pathspec ... \u001b[?25ldone\n",
      "\u001b[?25h  Running setup.py install for SecretStorage ... \u001b[?25ldone\n",
      "\u001b[?25h  Found existing installation: pytz 2018.5\n",
      "    Uninstalling pytz-2018.5:\n",
      "      Successfully uninstalled pytz-2018.5\n",
      "  Found existing installation: numpy 1.15.3\n",
      "    Uninstalling numpy-1.15.3:\n",
      "      Successfully uninstalled numpy-1.15.3\n",
      "  Found existing installation: scikit-learn 0.19.2\n",
      "    Uninstalling scikit-learn-0.19.2:\n",
      "      Successfully uninstalled scikit-learn-0.19.2\n",
      "  Found existing installation: lightgbm 2.1.2\n",
      "    Uninstalling lightgbm-2.1.2:\n",
      "      Successfully uninstalled lightgbm-2.1.2\n",
      "  Running setup.py install for JsonForm ... \u001b[?25ldone\n",
      "\u001b[?25h  Running setup.py install for JsonSir ... \u001b[?25ldone\n",
      "\u001b[?25h  Found existing installation: tensorboard 1.9.0\n",
      "    Uninstalling tensorboard-1.9.0:\n",
      "      Successfully uninstalled tensorboard-1.9.0\n",
      "  Found existing installation: grpcio 1.16.0\n",
      "    Uninstalling grpcio-1.16.0:\n",
      "      Successfully uninstalled grpcio-1.16.0\n",
      "  Found existing installation: prompt-toolkit 2.0.6\n",
      "    Uninstalling prompt-toolkit-2.0.6:\n",
      "      Successfully uninstalled prompt-toolkit-2.0.6\n",
      "  Found existing installation: MarkupSafe 0.23\n",
      "    Not uninstalling markupsafe at /usr/lib/python3/dist-packages, outside environment /usr\n",
      "  Found existing installation: Jinja2 2.8\n",
      "    Not uninstalling jinja2 at /usr/lib/python3/dist-packages, outside environment /usr\n",
      "  Found existing installation: notebook 5.7.0\n",
      "    Uninstalling notebook-5.7.0:\n",
      "      Successfully uninstalled notebook-5.7.0\n",
      "Successfully installed JsonForm-0.0.2 JsonSir-0.0.2 MarkupSafe-1.1.0 PyJWT-1.6.4 PyOpenSSL-18.0.0 SecretStorage-2.3.1 adal-1.2.0 antlr4-python3-runtime-4.7.1 applicationinsights-0.11.7 argcomplete-1.9.4 asn1crypto-0.24.0 azure-cli-command-modules-nspkg-2.0.2 azure-cli-core-2.0.50 azure-cli-nspkg-3.0.3 azure-cli-profile-2.1.2 azure-cli-telemetry-1.0.0 azure-common-1.1.16 azure-graphrbac-0.52.0 azure-mgmt-authorization-0.51.0 azure-mgmt-containerregistry-2.4.0 azure-mgmt-keyvault-1.1.0 azure-mgmt-nspkg-3.0.2 azure-mgmt-resource-2.0.0 azure-mgmt-storage-3.1.0 azure-nspkg-3.0.2 azure-storage-blob-1.4.0 azure-storage-common-1.4.0 azure-storage-nspkg-3.1.0 azureml-core-0.1.74 azureml-dataprep-0.3.0 azureml-dataprep-native-10.4.0 azureml-pipeline-0.1.74 azureml-pipeline-core-0.1.74 azureml-pipeline-steps-0.1.74 azureml-sdk-0.1.74 azureml-telemetry-0.1.74 azureml-train-0.1.74 azureml-train-automl-0.1.74 azureml-train-core-0.1.74 azureml-train-restclients-hyperdrive-0.1.74 azureml-train-widgets-0.1.74 backports.tempfile-1.0 backports.weakref-1.0.post1 bcrypt-3.1.4 certifi-2018.10.15 cffi-1.11.5 chardet-3.0.4 colorama-0.4.0 contextlib2-0.5.5 cryptography-2.4.1 distro-1.2.0 docker-3.5.1 docker-pycreds-0.3.0 dotnetcore2-2.1.0 grpcio-1.16.1 humanfriendly-4.17 idna-2.7 isodate-0.6.0 jinja2-2.10 jmespath-0.9.3 jsonpickle-1.0 knack-0.4.5 lightgbm-2.2.1 msrest-0.6.1 msrestazure-0.5.1 ndg-httpsclient-0.5.1 notebook-5.7.2 numpy-1.15.0 oauthlib-2.1.0 paramiko-2.4.2 pathspec-0.5.9 pip-18.1 portalocker-1.2.1 prompt-toolkit-2.0.7 pyasn1-0.4.4 pycparser-2.19 pynacl-1.3.0 python-dateutil-2.7.5 python-easyconfig-0.1.7 pytz-2018.7 requests-2.20.1 requests-oauthlib-1.0.0 resource-0.2.1 ruamel.yaml-0.15.51 scikit-learn-0.19.1 sklearn-pandas-1.7.0 tabulate-0.8.2 tensorboard-1.10.0 tensorflow-1.10.0 urllib3-1.23 websocket-client-0.54.0 wheel-0.30.0\n",
      "Installing /usr/local/lib/python3.5/dist-packages/azureml/train/widgets/static -> azureml_train_widgets\n",
      "Out of date: /home/chenhui/.local/share/jupyter/nbextensions/azureml_train_widgets/index.js\n",
      "Copying: /usr/local/lib/python3.5/dist-packages/azureml/train/widgets/static/index.js -> /home/chenhui/.local/share/jupyter/nbextensions/azureml_train_widgets/index.js\n",
      "Out of date: /home/chenhui/.local/share/jupyter/nbextensions/azureml_train_widgets/extension.js\n",
      "Copying: /usr/local/lib/python3.5/dist-packages/azureml/train/widgets/static/extension.js -> /home/chenhui/.local/share/jupyter/nbextensions/azureml_train_widgets/extension.js\n",
      "Out of date: /home/chenhui/.local/share/jupyter/nbextensions/azureml_train_widgets/packages/labextension/azureml_train_widgets-1.0.0.tgz\n",
      "Copying: /usr/local/lib/python3.5/dist-packages/azureml/train/widgets/static/packages/labextension/azureml_train_widgets-1.0.0.tgz -> /home/chenhui/.local/share/jupyter/nbextensions/azureml_train_widgets/packages/labextension/azureml_train_widgets-1.0.0.tgz\n",
      "- Validating: \u001b[32mOK\u001b[0m\n",
      "\n",
      "    To initialize this nbextension in the browser every time the notebook (or other app) loads:\n",
      "    \n",
      "          jupyter nbextension enable azureml.train.widgets --user --py\n",
      "    \n",
      "Enabling notebook extension azureml_train_widgets/extension...\n",
      "      - Validating: \u001b[32mOK\u001b[0m\n"
     ]
    }
   ],
   "source": [
    "!pip3 install --upgrade azureml-sdk[notebooks,automl]\n",
    "\n",
    "# install experiment widget\n",
    "!jupyter nbextension install --py --user azureml.train.widgets\n",
    "\n",
    "# enable experiment widget\n",
    "!jupyter nbextension enable --py --user azureml.train.widgets"
   ]
  },
  {
   "cell_type": "code",
   "execution_count": 4,
   "metadata": {},
   "outputs": [],
   "source": [
    "%matplotlib inline\n",
    "import numpy as np\n",
    "import os\n",
    "import matplotlib\n",
    "import matplotlib.pyplot as plt"
   ]
  },
  {
   "cell_type": "code",
   "execution_count": 5,
   "metadata": {},
   "outputs": [
    {
     "name": "stdout",
     "output_type": "stream",
     "text": [
      "Azure ML SDK Version:  0.1.74\n"
     ]
    }
   ],
   "source": [
    "import azureml\n",
    "from azureml.core import Workspace, Run\n",
    "\n",
    "# check core SDK version number\n",
    "print(\"Azure ML SDK Version: \", azureml.core.VERSION)"
   ]
  },
  {
   "cell_type": "code",
   "execution_count": 6,
   "metadata": {},
   "outputs": [],
   "source": [
    "from azureml.telemetry import set_diagnostics_collection\n",
    "set_diagnostics_collection(send_diagnostics=True)"
   ]
  },
  {
   "cell_type": "code",
   "execution_count": 7,
   "metadata": {},
   "outputs": [
    {
     "name": "stdout",
     "output_type": "stream",
     "text": [
      "Found the config file in: /home/chenhui/TSPerf/retail_sales/OrangeJuice_Pt_3Weeks_Weekly/submissions/DilatedCNN/config.json\n",
      "Workspace name: chhws\n",
      "Azure region: southcentralus\n",
      "Subscription id: ff18d7a8-962a-406c-858f-49acd23d6c01\n",
      "Resource group: tsperf\n"
     ]
    }
   ],
   "source": [
    "from azureml.core.workspace import Workspace\n",
    "\n",
    "ws = Workspace.from_config()\n",
    "print('Workspace name: ' + ws.name, \n",
    "      'Azure region: ' + ws.location, \n",
    "      'Subscription id: ' + ws.subscription_id, \n",
    "      'Resource group: ' + ws.resource_group, sep = '\\n')"
   ]
  },
  {
   "cell_type": "markdown",
   "metadata": {},
   "source": [
    "## Create an Azure ML experiment"
   ]
  },
  {
   "cell_type": "code",
   "execution_count": 11,
   "metadata": {},
   "outputs": [],
   "source": [
    "from azureml.core import Experiment\n",
    "\n",
    "#script_folder = './tf-mnist'\n",
    "#os.makedirs(script_folder, exist_ok=True)\n",
    "\n",
    "exp = Experiment(workspace=ws, name='tune_dcnn')"
   ]
  },
  {
   "cell_type": "markdown",
   "metadata": {},
   "source": [
    "## Validate Script Locally"
   ]
  },
  {
   "cell_type": "code",
   "execution_count": 20,
   "metadata": {},
   "outputs": [],
   "source": [
    "from azureml.core.runconfig import RunConfiguration\n",
    "run_config_user_managed = RunConfiguration()\n",
    "run_config_user_managed.environment.python.user_managed_dependencies = True\n",
    "run_config_user_managed.environment.python.interpreter_path = '/usr/bin/python3.5'"
   ]
  },
  {
   "cell_type": "code",
   "execution_count": 21,
   "metadata": {},
   "outputs": [],
   "source": [
    "from azureml.core import ScriptRunConfig\n",
    "src = ScriptRunConfig(source_directory='./', \n",
    "                      script='train_score_all.py', \n",
    "                      arguments=['--data-folder', '/home/chenhui/TSPerf/retail_sales/OrangeJuice_Pt_3Weeks_Weekly/data/', '--dropout-rate', '0.3'],\n",
    "                      run_config=run_config_user_managed)\n",
    "run_local = exp.submit(src)"
   ]
  },
  {
   "cell_type": "code",
   "execution_count": 23,
   "metadata": {},
   "outputs": [
    {
     "data": {
      "text/plain": [
       "<bound method Run.fail of Run(Experiment: tune_dcnn,\n",
       "Id: tune_dcnn_1542658241_5c84c784,\n",
       "Type: azureml.scriptrun,\n",
       "Status: Completed)>"
      ]
     },
     "execution_count": 23,
     "metadata": {},
     "output_type": "execute_result"
    }
   ],
   "source": [
    "run_local.fail"
   ]
  },
  {
   "cell_type": "code",
   "execution_count": 24,
   "metadata": {},
   "outputs": [
    {
     "data": {
      "text/plain": [
       "{'MAPE': 52.905323745857956}"
      ]
     },
     "execution_count": 24,
     "metadata": {},
     "output_type": "execute_result"
    }
   ],
   "source": [
    "run_local.get_details()\n",
    "run_local.get_metrics()"
   ]
  },
  {
   "cell_type": "markdown",
   "metadata": {},
   "source": [
    "## Upload Orange Juice dataset to default datastore"
   ]
  },
  {
   "cell_type": "code",
   "execution_count": 9,
   "metadata": {},
   "outputs": [
    {
     "data": {
      "text/plain": [
       "$AZUREML_DATAREFERENCE_1094968f03694512b46340b93f7d2c59"
      ]
     },
     "execution_count": 9,
     "metadata": {},
     "output_type": "execute_result"
    }
   ],
   "source": [
    "ds = ws.get_default_datastore()\n",
    "ds.upload(src_dir='../../data', target_path='data', overwrite=True, show_progress=True)"
   ]
  },
  {
   "cell_type": "markdown",
   "metadata": {},
   "source": [
    "## Create Batch AI cluster as compute target"
   ]
  },
  {
   "cell_type": "code",
   "execution_count": 28,
   "metadata": {},
   "outputs": [
    {
     "name": "stdout",
     "output_type": "stream",
     "text": [
      "Found existing compute target gpucluster.\n"
     ]
    }
   ],
   "source": [
    "from azureml.core.compute import ComputeTarget, BatchAiCompute\n",
    "from azureml.core.compute_target import ComputeTargetException\n",
    "\n",
    "# choose a name for your cluster\n",
    "cluster_name = \"gpucluster\"\n",
    "\n",
    "try:\n",
    "    # look for the existing cluster by name\n",
    "    compute_target = ComputeTarget(workspace=ws, name=cluster_name)\n",
    "    if type(compute_target) is BatchAiCompute:\n",
    "        print('Found existing compute target {}.'.format(cluster_name))\n",
    "    else:\n",
    "        print('{} exists but it is not a Batch AI cluster. Please choose a different name.'.format(cluster_name))\n",
    "except ComputeTargetException:\n",
    "    print('Creating a new compute target...')\n",
    "    compute_config = BatchAiCompute.provisioning_configuration(vm_size=\"STANDARD_NC6\", # GPU-based VM\n",
    "                                                                #vm_priority='lowpriority', # optional\n",
    "                                                                autoscale_enabled=True,\n",
    "                                                                cluster_min_nodes=0, \n",
    "                                                                cluster_max_nodes=4)\n",
    "\n",
    "    # create the cluster\n",
    "    compute_target = ComputeTarget.create(ws, cluster_name, compute_config)\n",
    "    \n",
    "    # can poll for a minimum number of nodes and for a specific timeout. \n",
    "    # if no min node count is provided it uses the scale settings for the cluster\n",
    "    compute_target.wait_for_completion(show_output=True, min_node_count=None, timeout_in_minutes=20)\n",
    "    \n",
    "    # Use the 'status' property to get a detailed status for the current cluster. \n",
    "    print(compute_target.status.serialize())"
   ]
  },
  {
   "cell_type": "code",
   "execution_count": 12,
   "metadata": {},
   "outputs": [
    {
     "name": "stdout",
     "output_type": "stream",
     "text": [
      "gpucluster BatchAI Succeeded\n"
     ]
    }
   ],
   "source": [
    "compute_targets = ws.compute_targets\n",
    "for name, ct in compute_targets.items():\n",
    "    print(name, ct.type, ct.provisioning_state)"
   ]
  },
  {
   "cell_type": "markdown",
   "metadata": {},
   "source": [
    "## Configure Docker Environment"
   ]
  },
  {
   "cell_type": "code",
   "execution_count": 25,
   "metadata": {},
   "outputs": [],
   "source": [
    "from azureml.core.runconfig import EnvironmentDefinition\n",
    "from azureml.core.conda_dependencies import CondaDependencies\n",
    "\n",
    "env = EnvironmentDefinition()\n",
    "\n",
    "env.python.user_managed_dependencies = False\n",
    "env.python.conda_dependencies = CondaDependencies.create(conda_packages=['pandas', 'numpy', 'scipy', 'scikit-learn', 'tensorflow-gpu', 'keras', 'joblib'],\n",
    "                                                         python_version='3.6.2')\n",
    "env.python.conda_dependencies.add_channel('conda-forge')\n",
    "env.docker.enabled=True"
   ]
  },
  {
   "cell_type": "markdown",
   "metadata": {},
   "source": [
    "## Create Estimator"
   ]
  },
  {
   "cell_type": "code",
   "execution_count": 38,
   "metadata": {},
   "outputs": [
    {
     "name": "stdout",
     "output_type": "stream",
     "text": [
      "AzureFile chhws9475974549 azureml-filestore-87c07697-2faa-418a-a879-bbaddc5c7cac\n"
     ]
    }
   ],
   "source": [
    "ds = ws.get_default_datastore()\n",
    "print(ds.datastore_type, ds.account_name, ds.container_name)"
   ]
  },
  {
   "cell_type": "code",
   "execution_count": 39,
   "metadata": {},
   "outputs": [
    {
     "name": "stderr",
     "output_type": "stream",
     "text": [
      "Target already exists. Skipping upload for ./data/yx.csv\n",
      "Target already exists. Skipping upload for ./data/.gitignore\n",
      "Target already exists. Skipping upload for ./data/storedemo.csv\n",
      "Target already exists. Skipping upload for ./data/test/test_round_1.csv\n",
      "Target already exists. Skipping upload for ./data/test/test_round_10.csv\n",
      "Target already exists. Skipping upload for ./data/test/test_round_2.csv\n",
      "Target already exists. Skipping upload for ./data/test/test_round_12.csv\n",
      "Target already exists. Skipping upload for ./data/test/test_round_9.csv\n",
      "Target already exists. Skipping upload for ./data/test/test_round_6.csv\n",
      "Target already exists. Skipping upload for ./data/test/test_round_4.csv\n",
      "Target already exists. Skipping upload for ./data/test/test_round_3.csv\n",
      "Target already exists. Skipping upload for ./data/test/test_round_8.csv\n",
      "Target already exists. Skipping upload for ./data/test/test_round_5.csv\n",
      "Target already exists. Skipping upload for ./data/test/test_round_7.csv\n",
      "Target already exists. Skipping upload for ./data/test/test_round_11.csv\n",
      "Target already exists. Skipping upload for ./data/train/aux_round_6.csv\n",
      "Target already exists. Skipping upload for ./data/train/train_round_1.csv\n",
      "Target already exists. Skipping upload for ./data/train/aux_round_11.csv\n",
      "Target already exists. Skipping upload for ./data/train/aux_round_4.csv\n",
      "Target already exists. Skipping upload for ./data/train/aux_round_9.csv\n",
      "Target already exists. Skipping upload for ./data/train/aux_round_1.csv\n",
      "Target already exists. Skipping upload for ./data/train/aux_round_12.csv\n",
      "Target already exists. Skipping upload for ./data/train/train_round_3.csv\n",
      "Target already exists. Skipping upload for ./data/train/train_round_11.csv\n",
      "Target already exists. Skipping upload for ./data/train/aux_round_5.csv\n",
      "Target already exists. Skipping upload for ./data/train/aux_round_7.csv\n",
      "Target already exists. Skipping upload for ./data/train/aux_round_8.csv\n",
      "Target already exists. Skipping upload for ./data/train/aux_round_2.csv\n",
      "Target already exists. Skipping upload for ./data/train/train_round_10.csv\n",
      "Target already exists. Skipping upload for ./data/train/train_round_8.csv\n",
      "Target already exists. Skipping upload for ./data/train/train_round_9.csv\n",
      "Target already exists. Skipping upload for ./data/train/aux_round_10.csv\n",
      "Target already exists. Skipping upload for ./data/train/train_round_5.csv\n",
      "Target already exists. Skipping upload for ./data/train/train_round_2.csv\n",
      "Target already exists. Skipping upload for ./data/train/train_round_4.csv\n",
      "Target already exists. Skipping upload for ./data/train/train_round_6.csv\n",
      "Target already exists. Skipping upload for ./data/train/train_round_7.csv\n",
      "Target already exists. Skipping upload for ./data/train/aux_round_3.csv\n",
      "Target already exists. Skipping upload for ./data/train/train_round_12.csv\n"
     ]
    },
    {
     "data": {
      "text/plain": [
       "$AZUREML_DATAREFERENCE_509d5ab95faf4f2c9caf6db5ae981340"
      ]
     },
     "execution_count": 39,
     "metadata": {},
     "output_type": "execute_result"
    }
   ],
   "source": [
    "ds.upload(src_dir='../../data', target_path='./data')"
   ]
  },
  {
   "cell_type": "markdown",
   "metadata": {},
   "source": [
    "path_on_datastore = 'data'\n",
    "ds_data = ds.path(path_on_datastore)\n",
    "print(ds_data)"
   ]
  },
  {
   "cell_type": "code",
   "execution_count": 44,
   "metadata": {},
   "outputs": [],
   "source": [
    "from azureml.core.runconfig import EnvironmentDefinition\n",
    "from azureml.train.estimator import Estimator\n",
    "\n",
    "script_folder = './'\n",
    "\n",
    "script_params = {\n",
    "    '--data-folder': ds_data.as_mount(),\n",
    "    '--dropout-rate': 0.3,\n",
    "    '--learning-rate': 0.01\n",
    "}\n",
    "\n",
    "est = Estimator(source_directory=script_folder,\n",
    "                script_params=script_params,\n",
    "                compute_target=compute_target,\n",
    "                use_docker=True,\n",
    "                entry_script='train_validate.py',\n",
    "                environment_definition=env)"
   ]
  },
  {
   "cell_type": "code",
   "execution_count": 45,
   "metadata": {},
   "outputs": [],
   "source": [
    "# Submit job\n",
    "run_batchai = exp.submit(config=est)"
   ]
  },
  {
   "cell_type": "code",
   "execution_count": 46,
   "metadata": {},
   "outputs": [
    {
     "data": {
      "application/vnd.jupyter.widget-view+json": {
       "model_id": "0d2ad1f783c642bd91ff588fc7de62eb",
       "version_major": 2,
       "version_minor": 0
      },
      "text/plain": [
       "_UserRun(widget_settings={'childWidgetDisplay': 'popup'})"
      ]
     },
     "metadata": {},
     "output_type": "display_data"
    }
   ],
   "source": [
    "# Check job status\n",
    "from azureml.train.widgets import RunDetails\n",
    "RunDetails(run_batchai).show()"
   ]
  },
  {
   "cell_type": "code",
   "execution_count": 36,
   "metadata": {},
   "outputs": [
    {
     "data": {
      "text/plain": [
       "{}"
      ]
     },
     "execution_count": 36,
     "metadata": {},
     "output_type": "execute_result"
    }
   ],
   "source": [
    "run_batchai.get_details()\n",
    "run_batchai.get_metrics()"
   ]
  },
  {
   "cell_type": "markdown",
   "metadata": {},
   "source": [
    "## Copy the training files into the script folder"
   ]
  },
  {
   "cell_type": "code",
   "execution_count": 14,
   "metadata": {},
   "outputs": [],
   "source": [
    "from azureml.train.dnn import TensorFlow"
   ]
  },
  {
   "cell_type": "code",
   "execution_count": null,
   "metadata": {},
   "outputs": [],
   "source": [
    "script_folder = './tune-dcnn'\n",
    "os.makedirs(script_folder, exist_ok=True)"
   ]
  }
 ],
 "metadata": {
  "kernelspec": {
   "display_name": "Python 3",
   "language": "python",
   "name": "python3"
  },
  "language_info": {
   "codemirror_mode": {
    "name": "ipython",
    "version": 3
   },
   "file_extension": ".py",
   "mimetype": "text/x-python",
   "name": "python",
   "nbconvert_exporter": "python",
   "pygments_lexer": "ipython3",
   "version": "3.5.2"
  }
 },
 "nbformat": 4,
 "nbformat_minor": 2
}
