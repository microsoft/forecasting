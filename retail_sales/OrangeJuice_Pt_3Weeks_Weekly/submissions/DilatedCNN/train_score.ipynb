{
 "cells": [
  {
   "cell_type": "code",
   "execution_count": 1,
   "metadata": {},
   "outputs": [
    {
     "name": "stderr",
     "output_type": "stream",
     "text": [
      "Using TensorFlow backend.\n"
     ]
    }
   ],
   "source": [
    "import os\n",
    "import sys\n",
    "import math\n",
    "#import itertools\n",
    "import datetime\n",
    "import numpy as np\n",
    "import pandas as pd\n",
    "\n",
    "import keras"
   ]
  },
  {
   "cell_type": "code",
   "execution_count": 2,
   "metadata": {},
   "outputs": [],
   "source": [
    "# Append TSPerf path to sys.path\n",
    "nb_dir = os.path.split(os.getcwd())[0]\n",
    "tsperf_dir = os.path.dirname(os.path.dirname(os.path.dirname(nb_dir)))\n",
    "if tsperf_dir not in sys.path:\n",
    "    sys.path.append(tsperf_dir)\n",
    "\n",
    "from common.metrics import MAPE\n",
    "import retail_sales.OrangeJuice_Pt_3Weeks_Weekly.common.benchmark_settings as bs"
   ]
  },
  {
   "cell_type": "code",
   "execution_count": 3,
   "metadata": {},
   "outputs": [],
   "source": [
    "# Data paths\n",
    "DATA_DIR = '../../data'\n",
    "TRAIN_DIR = os.path.join(DATA_DIR, 'train')\n",
    "TEST_DIR = os.path.join(DATA_DIR, 'test')"
   ]
  },
  {
   "cell_type": "code",
   "execution_count": 14,
   "metadata": {},
   "outputs": [],
   "source": [
    "def df_from_cartesian_product(dict_in):\n",
    "    \"\"\"Generate a Pandas dataframe from Cartesian product of lists.\n",
    "    \n",
    "    Args: \n",
    "        dict_in (Dictionary): Dictionary containing multiple lists\n",
    "        \n",
    "    Returns:\n",
    "        df (Dataframe): Dataframe corresponding to the Caresian product of the lists\n",
    "    \"\"\"\n",
    "    from collections import OrderedDict\n",
    "    from itertools import product\n",
    "    od = OrderedDict(sorted(dict_in.items()))\n",
    "    cart = list(product(*od.values()))\n",
    "    df = pd.DataFrame(cart, columns=od.keys())\n",
    "    return df\n",
    "\n",
    "def gen_sequence(df, seq_length, seq_cols):\n",
    "    \"\"\"Reshape features into an array of dimension (time steps, features)  \n",
    "    \"\"\"\n",
    "    data_array = df[seq_cols].values\n",
    "    total_timesteps = df.shape[0]\n",
    "    for start, stop in zip(range(0, total_timesteps-seq_length), range(seq_length, total_timesteps)):\n",
    "        yield data_array[start:stop, :]"
   ]
  },
  {
   "cell_type": "code",
   "execution_count": 5,
   "metadata": {},
   "outputs": [
    {
     "name": "stdout",
     "output_type": "stream",
     "text": [
      "---- Round 1 ----\n",
      "   store  brand  week  constant    price1    price2    price3    price4  \\\n",
      "0      2      1    40         1  0.060469  0.060497  0.042031  0.029531   \n",
      "1      2      1    46         1  0.060469  0.060312  0.045156  0.046719   \n",
      "2      2      1    47         1  0.060469  0.060312  0.045156  0.046719   \n",
      "\n",
      "     price5    price6    price7    price8    price9   price10   price11  deal  \\\n",
      "0  0.049531  0.053021  0.038906  0.041406  0.028906  0.024844  0.038984     1   \n",
      "1  0.049531  0.047813  0.045781  0.027969  0.042969  0.042031  0.038984     0   \n",
      "2  0.037344  0.053021  0.045781  0.041406  0.048125  0.032656  0.038984     0   \n",
      "\n",
      "   feat     profit  move  \n",
      "0   0.0  37.992326  8256  \n",
      "1   0.0  30.126667  6144  \n",
      "2   0.0  30.000000  3840  \n",
      "\n",
      "Number of missing rows is 6204\n",
      "\n",
      "   brand  store  week  constant    price1    price2    price3    price4  \\\n",
      "0      1      2    40       1.0  0.060469  0.060497  0.042031  0.029531   \n",
      "1      1      2    41       1.0  0.060469  0.060497  0.042031  0.029531   \n",
      "2      1      2    42       1.0  0.060469  0.060497  0.042031  0.029531   \n",
      "\n",
      "     price5    price6    price7    price8    price9   price10   price11  deal  \\\n",
      "0  0.049531  0.053021  0.038906  0.041406  0.028906  0.024844  0.038984   1.0   \n",
      "1  0.049531  0.053021  0.038906  0.041406  0.028906  0.024844  0.038984   1.0   \n",
      "2  0.049531  0.053021  0.038906  0.041406  0.028906  0.024844  0.038984   1.0   \n",
      "\n",
      "   feat     profit    move  \n",
      "0   0.0  37.992326  8256.0  \n",
      "1   0.0  37.992326  8256.0  \n",
      "2   0.0  37.992326  8256.0  \n",
      "\n"
     ]
    }
   ],
   "source": [
    "r = 0\n",
    "print('---- Round ' + str(r+1) + ' ----')\n",
    "train_df = pd.read_csv(os.path.join(TRAIN_DIR, 'train_round_'+str(r+1)+'.csv'))\n",
    "train_df['move'] = train_df['logmove'].apply(lambda x: round(math.exp(x)))\n",
    "train_df.drop('logmove', axis=1, inplace=True)\n",
    "print(train_df.head(3))\n",
    "print('')\n",
    "# Fill missing values\n",
    "store_list = train_df['store'].unique()\n",
    "brand_list = train_df['brand'].unique()\n",
    "week_list = range(bs.TRAIN_START_WEEK, bs.TEST_END_WEEK_LIST[r]+1)\n",
    "d = {'store': store_list,\n",
    "     'brand': brand_list,\n",
    "     'week': week_list}        \n",
    "data_grid = df_from_cartesian_product(d)\n",
    "data_filled = pd.merge(data_grid, train_df, how='left', \n",
    "                        on=['store', 'brand', 'week'])\n",
    "print('Number of missing rows is {}'.format(data_filled[data_filled.isnull().any(axis=1)].shape[0]))\n",
    "print('')\n",
    "data_filled = data_filled.groupby(['store', 'brand']). \\\n",
    "                          apply(lambda x: x.fillna(method='ffill').fillna(method='bfill'))\n",
    "print(data_filled.head(3))\n",
    "print('')"
   ]
  },
  {
   "cell_type": "code",
   "execution_count": null,
   "metadata": {},
   "outputs": [],
   "source": [
    "print(data_filled)"
   ]
  },
  {
   "cell_type": "code",
   "execution_count": 20,
   "metadata": {},
   "outputs": [
    {
     "data": {
      "text/plain": [
       "(91, 8, 1)"
      ]
     },
     "execution_count": 20,
     "metadata": {},
     "output_type": "execute_result"
    }
   ],
   "source": [
    "data_sub = data_filled[(data_filled.brand==1) & (data_filled.store==2)]\n",
    "sequence_length = 8\n",
    "sequence_cols = ['move']\n",
    "# seq_gen = (list(gen_sequence(train_df[(train_df['store']==cur_store) & (train_df['brand']==cur_brand)], sequence_length, sequence_cols)) \n",
    "#            for cur_store, cur_brand in zip(train_df['store'].unique(), train_df['brand'].unique()))\n",
    "seq_gen = (list(gen_sequence(data_sub[(data_sub['store']==cur_store) & (data_sub['brand']==cur_brand)], sequence_length, sequence_cols)) \n",
    "           for cur_store, cur_brand in zip(data_sub['store'].unique(), data_sub['brand'].unique()))\n",
    "seq_array = np.concatenate(list(seq_gen)).astype(np.float32)\n",
    "seq_array.shape"
   ]
  },
  {
   "cell_type": "code",
   "execution_count": 19,
   "metadata": {},
   "outputs": [
    {
     "data": {
      "text/plain": [
       "91"
      ]
     },
     "execution_count": 19,
     "metadata": {},
     "output_type": "execute_result"
    }
   ],
   "source": [
    "list(gen_sequence(data_sub, sequence_length, sequence_cols))"
   ]
  },
  {
   "cell_type": "code",
   "execution_count": null,
   "metadata": {},
   "outputs": [],
   "source": [
    "# Model definition\n",
    "n_steps = 40\n",
    "n_filters = 32\n",
    "from keras.models import Sequential, Model\n",
    "from keras.layers import * #Conv1D, Dense\n",
    "#sales_in = Input(shape=(n_steps, 1))\n",
    "#c1 = Conv1D(n_filters, 2, dilation_rate=1, padding='causal', activation='relu')(sales_in)\n",
    "#c1 = Flatten()(c1)\n",
    "#output = Dense(2, activation='relu')(c1)\n",
    "model = Sequential([\n",
    "    Conv1D(n_filters, 2, dilation_rate=2, padding='causal', activation='relu', input_shape=(n_steps,1)),\n",
    "    Flatten(),\n",
    "    Dense(2, activation='relu')\n",
    "])\n",
    "model.summary()"
   ]
  },
  {
   "cell_type": "code",
   "execution_count": null,
   "metadata": {},
   "outputs": [],
   "source": []
  }
 ],
 "metadata": {
  "kernelspec": {
   "display_name": "Python [conda env:py35]",
   "language": "python",
   "name": "conda-env-py35-py"
  },
  "language_info": {
   "codemirror_mode": {
    "name": "ipython",
    "version": 3
   },
   "file_extension": ".py",
   "mimetype": "text/x-python",
   "name": "python",
   "nbconvert_exporter": "python",
   "pygments_lexer": "ipython3",
   "version": "3.5.4"
  }
 },
 "nbformat": 4,
 "nbformat_minor": 2
}
